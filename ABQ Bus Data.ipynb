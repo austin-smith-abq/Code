{
 "cells": [
  {
   "cell_type": "code",
   "execution_count": 6,
   "metadata": {},
   "outputs": [],
   "source": [
    "import pandas as pd\n"
   ]
  },
  {
   "cell_type": "code",
   "execution_count": 7,
   "metadata": {},
   "outputs": [],
   "source": [
    "import requests\n",
    "\n",
    "url = \"http://data.cabq.gov/transit/realtime/route/allroutes.json\"\n",
    "\n",
    "headers = {'user-agent': 'vscode-restclient'}\n",
    "\n",
    "response = requests.request(\"GET\", url, headers=headers)\n"
   ]
  },
  {
   "cell_type": "code",
   "execution_count": 8,
   "metadata": {},
   "outputs": [],
   "source": [
    "df = pd.DataFrame(response.json()['allroutes'])\n"
   ]
  },
  {
   "cell_type": "code",
   "execution_count": 9,
   "metadata": {},
   "outputs": [],
   "source": [
    "import plotly.graph_objects as go\n",
    "import plotly.express as px\n"
   ]
  },
  {
   "cell_type": "code",
   "execution_count": 10,
   "metadata": {},
   "outputs": [
    {
     "data": {
      "application/vnd.plotly.v1+json": {
       "config": {
        "plotlyServerURL": "https://plot.ly"
       },
       "data": [
        {
         "hovertemplate": "vehicle_id=978<br>latitude=%{lat}<br>longitude=%{lon}<extra></extra>",
         "lat": [
          35.08953
         ],
         "legendgroup": "978",
         "lon": [
          -106.6238608
         ],
         "marker": {
          "color": "#636efa"
         },
         "mode": "markers",
         "name": "978",
         "showlegend": true,
         "subplot": "mapbox",
         "type": "scattermapbox"
        },
        {
         "hovertemplate": "vehicle_id=4105<br>latitude=%{lat}<br>longitude=%{lon}<extra></extra>",
         "lat": [
          35.0835513
         ],
         "legendgroup": "4105",
         "lon": [
          -106.6474433
         ],
         "marker": {
          "color": "#EF553B"
         },
         "mode": "markers",
         "name": "4105",
         "showlegend": true,
         "subplot": "mapbox",
         "type": "scattermapbox"
        },
        {
         "hovertemplate": "vehicle_id=981<br>latitude=%{lat}<br>longitude=%{lon}<extra></extra>",
         "lat": [
          35.0792838
         ],
         "legendgroup": "981",
         "lon": [
          -106.5052782
         ],
         "marker": {
          "color": "#00cc96"
         },
         "mode": "markers",
         "name": "981",
         "showlegend": true,
         "subplot": "mapbox",
         "type": "scattermapbox"
        },
        {
         "hovertemplate": "vehicle_id=4104<br>latitude=%{lat}<br>longitude=%{lon}<extra></extra>",
         "lat": [
          35.0616535
         ],
         "legendgroup": "4104",
         "lon": [
          -106.5864597
         ],
         "marker": {
          "color": "#ab63fa"
         },
         "mode": "markers",
         "name": "4104",
         "showlegend": true,
         "subplot": "mapbox",
         "type": "scattermapbox"
        },
        {
         "hovertemplate": "vehicle_id=638<br>latitude=%{lat}<br>longitude=%{lon}<extra></extra>",
         "lat": [
          35.09924
         ],
         "legendgroup": "638",
         "lon": [
          -106.58619
         ],
         "marker": {
          "color": "#FFA15A"
         },
         "mode": "markers",
         "name": "638",
         "showlegend": true,
         "subplot": "mapbox",
         "type": "scattermapbox"
        },
        {
         "hovertemplate": "vehicle_id=641<br>latitude=%{lat}<br>longitude=%{lon}<extra></extra>",
         "lat": [
          35.12326
         ],
         "legendgroup": "641",
         "lon": [
          -106.72728
         ],
         "marker": {
          "color": "#19d3f3"
         },
         "mode": "markers",
         "name": "641",
         "showlegend": true,
         "subplot": "mapbox",
         "type": "scattermapbox"
        },
        {
         "hovertemplate": "vehicle_id=976<br>latitude=%{lat}<br>longitude=%{lon}<extra></extra>",
         "lat": [
          35.0867718
         ],
         "legendgroup": "976",
         "lon": [
          -106.5685157
         ],
         "marker": {
          "color": "#FF6692"
         },
         "mode": "markers",
         "name": "976",
         "showlegend": true,
         "subplot": "mapbox",
         "type": "scattermapbox"
        },
        {
         "hovertemplate": "vehicle_id=974<br>latitude=%{lat}<br>longitude=%{lon}<extra></extra>",
         "lat": [
          35.1048345
         ],
         "legendgroup": "974",
         "lon": [
          -106.5690015
         ],
         "marker": {
          "color": "#B6E880"
         },
         "mode": "markers",
         "name": "974",
         "showlegend": true,
         "subplot": "mapbox",
         "type": "scattermapbox"
        },
        {
         "hovertemplate": "vehicle_id=982<br>latitude=%{lat}<br>longitude=%{lon}<extra></extra>",
         "lat": [
          35.0859063
         ],
         "legendgroup": "982",
         "lon": [
          -106.7294892
         ],
         "marker": {
          "color": "#FF97FF"
         },
         "mode": "markers",
         "name": "982",
         "showlegend": true,
         "subplot": "mapbox",
         "type": "scattermapbox"
        },
        {
         "hovertemplate": "vehicle_id=970<br>latitude=%{lat}<br>longitude=%{lon}<extra></extra>",
         "lat": [
          35.0559008
         ],
         "legendgroup": "970",
         "lon": [
          -106.7408818
         ],
         "marker": {
          "color": "#FECB52"
         },
         "mode": "markers",
         "name": "970",
         "showlegend": true,
         "subplot": "mapbox",
         "type": "scattermapbox"
        },
        {
         "hovertemplate": "vehicle_id=625<br>latitude=%{lat}<br>longitude=%{lon}<extra></extra>",
         "lat": [
          35.0909
         ],
         "legendgroup": "625",
         "lon": [
          -106.63504
         ],
         "marker": {
          "color": "#636efa"
         },
         "mode": "markers",
         "name": "625",
         "showlegend": true,
         "subplot": "mapbox",
         "type": "scattermapbox"
        },
        {
         "hovertemplate": "vehicle_id=4101<br>latitude=%{lat}<br>longitude=%{lon}<extra></extra>",
         "lat": [
          35.1307628
         ],
         "legendgroup": "4101",
         "lon": [
          -106.5099278
         ],
         "marker": {
          "color": "#EF553B"
         },
         "mode": "markers",
         "name": "4101",
         "showlegend": true,
         "subplot": "mapbox",
         "type": "scattermapbox"
        },
        {
         "hovertemplate": "vehicle_id=617<br>latitude=%{lat}<br>longitude=%{lon}<extra></extra>",
         "lat": [
          35.08611
         ],
         "legendgroup": "617",
         "lon": [
          -106.49714
         ],
         "marker": {
          "color": "#00cc96"
         },
         "mode": "markers",
         "name": "617",
         "showlegend": true,
         "subplot": "mapbox",
         "type": "scattermapbox"
        },
        {
         "hovertemplate": "vehicle_id=640<br>latitude=%{lat}<br>longitude=%{lon}<extra></extra>",
         "lat": [
          35.09109
         ],
         "legendgroup": "640",
         "lon": [
          -106.71077
         ],
         "marker": {
          "color": "#ab63fa"
         },
         "mode": "markers",
         "name": "640",
         "showlegend": true,
         "subplot": "mapbox",
         "type": "scattermapbox"
        },
        {
         "hovertemplate": "vehicle_id=620<br>latitude=%{lat}<br>longitude=%{lon}<extra></extra>",
         "lat": [
          35.08766
         ],
         "legendgroup": "620",
         "lon": [
          -106.66098
         ],
         "marker": {
          "color": "#FFA15A"
         },
         "mode": "markers",
         "name": "620",
         "showlegend": true,
         "subplot": "mapbox",
         "type": "scattermapbox"
        },
        {
         "hovertemplate": "vehicle_id=983<br>latitude=%{lat}<br>longitude=%{lon}<extra></extra>",
         "lat": [
          35.0688592
         ],
         "legendgroup": "983",
         "lon": [
          -106.5046228
         ],
         "marker": {
          "color": "#19d3f3"
         },
         "mode": "markers",
         "name": "983",
         "showlegend": true,
         "subplot": "mapbox",
         "type": "scattermapbox"
        },
        {
         "hovertemplate": "vehicle_id=613<br>latitude=%{lat}<br>longitude=%{lon}<extra></extra>",
         "lat": [
          35.07778
         ],
         "legendgroup": "613",
         "lon": [
          -106.58729
         ],
         "marker": {
          "color": "#FF6692"
         },
         "mode": "markers",
         "name": "613",
         "showlegend": true,
         "subplot": "mapbox",
         "type": "scattermapbox"
        },
        {
         "hovertemplate": "vehicle_id=628<br>latitude=%{lat}<br>longitude=%{lon}<extra></extra>",
         "lat": [
          35.08024
         ],
         "legendgroup": "628",
         "lon": [
          -106.70962
         ],
         "marker": {
          "color": "#B6E880"
         },
         "mode": "markers",
         "name": "628",
         "showlegend": true,
         "subplot": "mapbox",
         "type": "scattermapbox"
        },
        {
         "hovertemplate": "vehicle_id=615<br>latitude=%{lat}<br>longitude=%{lon}<extra></extra>",
         "lat": [
          35.08297
         ],
         "legendgroup": "615",
         "lon": [
          -106.63878
         ],
         "marker": {
          "color": "#FF97FF"
         },
         "mode": "markers",
         "name": "615",
         "showlegend": true,
         "subplot": "mapbox",
         "type": "scattermapbox"
        },
        {
         "hovertemplate": "vehicle_id=1903<br>latitude=%{lat}<br>longitude=%{lon}<extra></extra>",
         "lat": [
          35.085454
         ],
         "legendgroup": "1903",
         "lon": [
          -106.6505572
         ],
         "marker": {
          "color": "#FECB52"
         },
         "mode": "markers",
         "name": "1903",
         "showlegend": true,
         "subplot": "mapbox",
         "type": "scattermapbox"
        },
        {
         "hovertemplate": "vehicle_id=1909<br>latitude=%{lat}<br>longitude=%{lon}<extra></extra>",
         "lat": [
          35.1028808
         ],
         "legendgroup": "1909",
         "lon": [
          -106.5712865
         ],
         "marker": {
          "color": "#636efa"
         },
         "mode": "markers",
         "name": "1909",
         "showlegend": true,
         "subplot": "mapbox",
         "type": "scattermapbox"
        },
        {
         "hovertemplate": "vehicle_id=1913<br>latitude=%{lat}<br>longitude=%{lon}<extra></extra>",
         "lat": [
          35.0821087
         ],
         "legendgroup": "1913",
         "lon": [
          -106.7007315
         ],
         "marker": {
          "color": "#EF553B"
         },
         "mode": "markers",
         "name": "1913",
         "showlegend": true,
         "subplot": "mapbox",
         "type": "scattermapbox"
        },
        {
         "hovertemplate": "vehicle_id=1928<br>latitude=%{lat}<br>longitude=%{lon}<extra></extra>",
         "lat": [
          35.0698078
         ],
         "legendgroup": "1928",
         "lon": [
          -106.5134297
         ],
         "marker": {
          "color": "#00cc96"
         },
         "mode": "markers",
         "name": "1928",
         "showlegend": true,
         "subplot": "mapbox",
         "type": "scattermapbox"
        },
        {
         "hovertemplate": "vehicle_id=603<br>latitude=%{lat}<br>longitude=%{lon}<extra></extra>",
         "lat": [
          35.10898
         ],
         "legendgroup": "603",
         "lon": [
          -106.57188
         ],
         "marker": {
          "color": "#ab63fa"
         },
         "mode": "markers",
         "name": "603",
         "showlegend": true,
         "subplot": "mapbox",
         "type": "scattermapbox"
        },
        {
         "hovertemplate": "vehicle_id=977<br>latitude=%{lat}<br>longitude=%{lon}<extra></extra>",
         "lat": [
          35.109377
         ],
         "legendgroup": "977",
         "lon": [
          -106.6052052
         ],
         "marker": {
          "color": "#FFA15A"
         },
         "mode": "markers",
         "name": "977",
         "showlegend": true,
         "subplot": "mapbox",
         "type": "scattermapbox"
        },
        {
         "hovertemplate": "vehicle_id=602<br>latitude=%{lat}<br>longitude=%{lon}<extra></extra>",
         "lat": [
          35.08952
         ],
         "legendgroup": "602",
         "lon": [
          -106.73419
         ],
         "marker": {
          "color": "#19d3f3"
         },
         "mode": "markers",
         "name": "602",
         "showlegend": true,
         "subplot": "mapbox",
         "type": "scattermapbox"
        },
        {
         "hovertemplate": "vehicle_id=605<br>latitude=%{lat}<br>longitude=%{lon}<extra></extra>",
         "lat": [
          35.08957
         ],
         "legendgroup": "605",
         "lon": [
          -106.73326
         ],
         "marker": {
          "color": "#FF6692"
         },
         "mode": "markers",
         "name": "605",
         "showlegend": true,
         "subplot": "mapbox",
         "type": "scattermapbox"
        },
        {
         "hovertemplate": "vehicle_id=607<br>latitude=%{lat}<br>longitude=%{lon}<extra></extra>",
         "lat": [
          35.08934
         ],
         "legendgroup": "607",
         "lon": [
          -106.73327
         ],
         "marker": {
          "color": "#B6E880"
         },
         "mode": "markers",
         "name": "607",
         "showlegend": true,
         "subplot": "mapbox",
         "type": "scattermapbox"
        },
        {
         "hovertemplate": "vehicle_id=608<br>latitude=%{lat}<br>longitude=%{lon}<extra></extra>",
         "lat": [
          35.08926
         ],
         "legendgroup": "608",
         "lon": [
          -106.73358
         ],
         "marker": {
          "color": "#FF97FF"
         },
         "mode": "markers",
         "name": "608",
         "showlegend": true,
         "subplot": "mapbox",
         "type": "scattermapbox"
        },
        {
         "hovertemplate": "vehicle_id=609<br>latitude=%{lat}<br>longitude=%{lon}<extra></extra>",
         "lat": [
          35.08927
         ],
         "legendgroup": "609",
         "lon": [
          -106.73421
         ],
         "marker": {
          "color": "#FECB52"
         },
         "mode": "markers",
         "name": "609",
         "showlegend": true,
         "subplot": "mapbox",
         "type": "scattermapbox"
        },
        {
         "hovertemplate": "vehicle_id=611<br>latitude=%{lat}<br>longitude=%{lon}<extra></extra>",
         "lat": [
          35.08923
         ],
         "legendgroup": "611",
         "lon": [
          -106.73332
         ],
         "marker": {
          "color": "#636efa"
         },
         "mode": "markers",
         "name": "611",
         "showlegend": true,
         "subplot": "mapbox",
         "type": "scattermapbox"
        },
        {
         "hovertemplate": "vehicle_id=612<br>latitude=%{lat}<br>longitude=%{lon}<extra></extra>",
         "lat": [
          35.08934
         ],
         "legendgroup": "612",
         "lon": [
          -106.73413
         ],
         "marker": {
          "color": "#EF553B"
         },
         "mode": "markers",
         "name": "612",
         "showlegend": true,
         "subplot": "mapbox",
         "type": "scattermapbox"
        },
        {
         "hovertemplate": "vehicle_id=616<br>latitude=%{lat}<br>longitude=%{lon}<extra></extra>",
         "lat": [
          35.0895
         ],
         "legendgroup": "616",
         "lon": [
          -106.73421
         ],
         "marker": {
          "color": "#00cc96"
         },
         "mode": "markers",
         "name": "616",
         "showlegend": true,
         "subplot": "mapbox",
         "type": "scattermapbox"
        },
        {
         "hovertemplate": "vehicle_id=618<br>latitude=%{lat}<br>longitude=%{lon}<extra></extra>",
         "lat": [
          35.08927
         ],
         "legendgroup": "618",
         "lon": [
          -106.7342
         ],
         "marker": {
          "color": "#ab63fa"
         },
         "mode": "markers",
         "name": "618",
         "showlegend": true,
         "subplot": "mapbox",
         "type": "scattermapbox"
        },
        {
         "hovertemplate": "vehicle_id=621<br>latitude=%{lat}<br>longitude=%{lon}<extra></extra>",
         "lat": [
          35.08941
         ],
         "legendgroup": "621",
         "lon": [
          -106.73324
         ],
         "marker": {
          "color": "#FFA15A"
         },
         "mode": "markers",
         "name": "621",
         "showlegend": true,
         "subplot": "mapbox",
         "type": "scattermapbox"
        },
        {
         "hovertemplate": "vehicle_id=622<br>latitude=%{lat}<br>longitude=%{lon}<extra></extra>",
         "lat": [
          35.08925
         ],
         "legendgroup": "622",
         "lon": [
          -106.73327
         ],
         "marker": {
          "color": "#19d3f3"
         },
         "mode": "markers",
         "name": "622",
         "showlegend": true,
         "subplot": "mapbox",
         "type": "scattermapbox"
        },
        {
         "hovertemplate": "vehicle_id=624<br>latitude=%{lat}<br>longitude=%{lon}<extra></extra>",
         "lat": [
          35.08939
         ],
         "legendgroup": "624",
         "lon": [
          -106.73343
         ],
         "marker": {
          "color": "#FF6692"
         },
         "mode": "markers",
         "name": "624",
         "showlegend": true,
         "subplot": "mapbox",
         "type": "scattermapbox"
        },
        {
         "hovertemplate": "vehicle_id=626<br>latitude=%{lat}<br>longitude=%{lon}<extra></extra>",
         "lat": [
          35.08921
         ],
         "legendgroup": "626",
         "lon": [
          -106.73378
         ],
         "marker": {
          "color": "#B6E880"
         },
         "mode": "markers",
         "name": "626",
         "showlegend": true,
         "subplot": "mapbox",
         "type": "scattermapbox"
        },
        {
         "hovertemplate": "vehicle_id=630<br>latitude=%{lat}<br>longitude=%{lon}<extra></extra>",
         "lat": [
          35.08967
         ],
         "legendgroup": "630",
         "lon": [
          -106.73414
         ],
         "marker": {
          "color": "#FF97FF"
         },
         "mode": "markers",
         "name": "630",
         "showlegend": true,
         "subplot": "mapbox",
         "type": "scattermapbox"
        },
        {
         "hovertemplate": "vehicle_id=636<br>latitude=%{lat}<br>longitude=%{lon}<extra></extra>",
         "lat": [
          35.08926
         ],
         "legendgroup": "636",
         "lon": [
          -106.73342
         ],
         "marker": {
          "color": "#FECB52"
         },
         "mode": "markers",
         "name": "636",
         "showlegend": true,
         "subplot": "mapbox",
         "type": "scattermapbox"
        },
        {
         "hovertemplate": "vehicle_id=639<br>latitude=%{lat}<br>longitude=%{lon}<extra></extra>",
         "lat": [
          35.08921
         ],
         "legendgroup": "639",
         "lon": [
          -106.73365
         ],
         "marker": {
          "color": "#636efa"
         },
         "mode": "markers",
         "name": "639",
         "showlegend": true,
         "subplot": "mapbox",
         "type": "scattermapbox"
        },
        {
         "hovertemplate": "vehicle_id=703<br>latitude=%{lat}<br>longitude=%{lon}<extra></extra>",
         "lat": [
          35.0717917
         ],
         "legendgroup": "703",
         "lon": [
          -106.6227802
         ],
         "marker": {
          "color": "#EF553B"
         },
         "mode": "markers",
         "name": "703",
         "showlegend": true,
         "subplot": "mapbox",
         "type": "scattermapbox"
        },
        {
         "hovertemplate": "vehicle_id=704<br>latitude=%{lat}<br>longitude=%{lon}<extra></extra>",
         "lat": [
          35.0717077
         ],
         "legendgroup": "704",
         "lon": [
          -106.6227947
         ],
         "marker": {
          "color": "#00cc96"
         },
         "mode": "markers",
         "name": "704",
         "showlegend": true,
         "subplot": "mapbox",
         "type": "scattermapbox"
        },
        {
         "hovertemplate": "vehicle_id=705<br>latitude=%{lat}<br>longitude=%{lon}<extra></extra>",
         "lat": [
          35.0714203
         ],
         "legendgroup": "705",
         "lon": [
          -106.6233782
         ],
         "marker": {
          "color": "#ab63fa"
         },
         "mode": "markers",
         "name": "705",
         "showlegend": true,
         "subplot": "mapbox",
         "type": "scattermapbox"
        },
        {
         "hovertemplate": "vehicle_id=706<br>latitude=%{lat}<br>longitude=%{lon}<extra></extra>",
         "lat": [
          35.0724747
         ],
         "legendgroup": "706",
         "lon": [
          -106.623269
         ],
         "marker": {
          "color": "#FFA15A"
         },
         "mode": "markers",
         "name": "706",
         "showlegend": true,
         "subplot": "mapbox",
         "type": "scattermapbox"
        },
        {
         "hovertemplate": "vehicle_id=708<br>latitude=%{lat}<br>longitude=%{lon}<extra></extra>",
         "lat": [
          35.0714692
         ],
         "legendgroup": "708",
         "lon": [
          -106.6227548
         ],
         "marker": {
          "color": "#19d3f3"
         },
         "mode": "markers",
         "name": "708",
         "showlegend": true,
         "subplot": "mapbox",
         "type": "scattermapbox"
        },
        {
         "hovertemplate": "vehicle_id=714<br>latitude=%{lat}<br>longitude=%{lon}<extra></extra>",
         "lat": [
          35.0713955
         ],
         "legendgroup": "714",
         "lon": [
          -106.6236612
         ],
         "marker": {
          "color": "#FF6692"
         },
         "mode": "markers",
         "name": "714",
         "showlegend": true,
         "subplot": "mapbox",
         "type": "scattermapbox"
        },
        {
         "hovertemplate": "vehicle_id=715<br>latitude=%{lat}<br>longitude=%{lon}<extra></extra>",
         "lat": [
          35.0713923
         ],
         "legendgroup": "715",
         "lon": [
          -106.6238592
         ],
         "marker": {
          "color": "#B6E880"
         },
         "mode": "markers",
         "name": "715",
         "showlegend": true,
         "subplot": "mapbox",
         "type": "scattermapbox"
        },
        {
         "hovertemplate": "vehicle_id=717<br>latitude=%{lat}<br>longitude=%{lon}<extra></extra>",
         "lat": [
          35.0716105
         ],
         "legendgroup": "717",
         "lon": [
          -106.6223105
         ],
         "marker": {
          "color": "#FF97FF"
         },
         "mode": "markers",
         "name": "717",
         "showlegend": true,
         "subplot": "mapbox",
         "type": "scattermapbox"
        },
        {
         "hovertemplate": "vehicle_id=718<br>latitude=%{lat}<br>longitude=%{lon}<extra></extra>",
         "lat": [
          35.0714442
         ],
         "legendgroup": "718",
         "lon": [
          -106.6224067
         ],
         "marker": {
          "color": "#FECB52"
         },
         "mode": "markers",
         "name": "718",
         "showlegend": true,
         "subplot": "mapbox",
         "type": "scattermapbox"
        },
        {
         "hovertemplate": "vehicle_id=720<br>latitude=%{lat}<br>longitude=%{lon}<extra></extra>",
         "lat": [
          35.0718828
         ],
         "legendgroup": "720",
         "lon": [
          -106.6226002
         ],
         "marker": {
          "color": "#636efa"
         },
         "mode": "markers",
         "name": "720",
         "showlegend": true,
         "subplot": "mapbox",
         "type": "scattermapbox"
        },
        {
         "hovertemplate": "vehicle_id=721<br>latitude=%{lat}<br>longitude=%{lon}<extra></extra>",
         "lat": [
          35.0716557
         ],
         "legendgroup": "721",
         "lon": [
          -106.6224688
         ],
         "marker": {
          "color": "#EF553B"
         },
         "mode": "markers",
         "name": "721",
         "showlegend": true,
         "subplot": "mapbox",
         "type": "scattermapbox"
        },
        {
         "hovertemplate": "vehicle_id=723<br>latitude=%{lat}<br>longitude=%{lon}<extra></extra>",
         "lat": [
          35.0716368
         ],
         "legendgroup": "723",
         "lon": [
          -106.6225185
         ],
         "marker": {
          "color": "#00cc96"
         },
         "mode": "markers",
         "name": "723",
         "showlegend": true,
         "subplot": "mapbox",
         "type": "scattermapbox"
        },
        {
         "hovertemplate": "vehicle_id=727<br>latitude=%{lat}<br>longitude=%{lon}<extra></extra>",
         "lat": [
          35.0715255
         ],
         "legendgroup": "727",
         "lon": [
          -106.6228117
         ],
         "marker": {
          "color": "#ab63fa"
         },
         "mode": "markers",
         "name": "727",
         "showlegend": true,
         "subplot": "mapbox",
         "type": "scattermapbox"
        },
        {
         "hovertemplate": "vehicle_id=729<br>latitude=%{lat}<br>longitude=%{lon}<extra></extra>",
         "lat": [
          35.071509
         ],
         "legendgroup": "729",
         "lon": [
          -106.6226675
         ],
         "marker": {
          "color": "#FFA15A"
         },
         "mode": "markers",
         "name": "729",
         "showlegend": true,
         "subplot": "mapbox",
         "type": "scattermapbox"
        },
        {
         "hovertemplate": "vehicle_id=731<br>latitude=%{lat}<br>longitude=%{lon}<extra></extra>",
         "lat": [
          35.071671
         ],
         "legendgroup": "731",
         "lon": [
          -106.6226528
         ],
         "marker": {
          "color": "#19d3f3"
         },
         "mode": "markers",
         "name": "731",
         "showlegend": true,
         "subplot": "mapbox",
         "type": "scattermapbox"
        },
        {
         "hovertemplate": "vehicle_id=733<br>latitude=%{lat}<br>longitude=%{lon}<extra></extra>",
         "lat": [
          35.071577
         ],
         "legendgroup": "733",
         "lon": [
          -106.6223872
         ],
         "marker": {
          "color": "#FF6692"
         },
         "mode": "markers",
         "name": "733",
         "showlegend": true,
         "subplot": "mapbox",
         "type": "scattermapbox"
        },
        {
         "hovertemplate": "vehicle_id=735<br>latitude=%{lat}<br>longitude=%{lon}<extra></extra>",
         "lat": [
          35.0716758
         ],
         "legendgroup": "735",
         "lon": [
          -106.6234367
         ],
         "marker": {
          "color": "#B6E880"
         },
         "mode": "markers",
         "name": "735",
         "showlegend": true,
         "subplot": "mapbox",
         "type": "scattermapbox"
        },
        {
         "hovertemplate": "vehicle_id=736<br>latitude=%{lat}<br>longitude=%{lon}<extra></extra>",
         "lat": [
          35.0723548
         ],
         "legendgroup": "736",
         "lon": [
          -106.6231683
         ],
         "marker": {
          "color": "#FF97FF"
         },
         "mode": "markers",
         "name": "736",
         "showlegend": true,
         "subplot": "mapbox",
         "type": "scattermapbox"
        },
        {
         "hovertemplate": "vehicle_id=737<br>latitude=%{lat}<br>longitude=%{lon}<extra></extra>",
         "lat": [
          35.0718547
         ],
         "legendgroup": "737",
         "lon": [
          -106.6227452
         ],
         "marker": {
          "color": "#FECB52"
         },
         "mode": "markers",
         "name": "737",
         "showlegend": true,
         "subplot": "mapbox",
         "type": "scattermapbox"
        },
        {
         "hovertemplate": "vehicle_id=739<br>latitude=%{lat}<br>longitude=%{lon}<extra></extra>",
         "lat": [
          35.071396
         ],
         "legendgroup": "739",
         "lon": [
          -106.6224798
         ],
         "marker": {
          "color": "#636efa"
         },
         "mode": "markers",
         "name": "739",
         "showlegend": true,
         "subplot": "mapbox",
         "type": "scattermapbox"
        },
        {
         "hovertemplate": "vehicle_id=740<br>latitude=%{lat}<br>longitude=%{lon}<extra></extra>",
         "lat": [
          35.0718175
         ],
         "legendgroup": "740",
         "lon": [
          -106.6226595
         ],
         "marker": {
          "color": "#EF553B"
         },
         "mode": "markers",
         "name": "740",
         "showlegend": true,
         "subplot": "mapbox",
         "type": "scattermapbox"
        },
        {
         "hovertemplate": "vehicle_id=744<br>latitude=%{lat}<br>longitude=%{lon}<extra></extra>",
         "lat": [
          35.0716593
         ],
         "legendgroup": "744",
         "lon": [
          -106.6232765
         ],
         "marker": {
          "color": "#00cc96"
         },
         "mode": "markers",
         "name": "744",
         "showlegend": true,
         "subplot": "mapbox",
         "type": "scattermapbox"
        },
        {
         "hovertemplate": "vehicle_id=746<br>latitude=%{lat}<br>longitude=%{lon}<extra></extra>",
         "lat": [
          35.0716248
         ],
         "legendgroup": "746",
         "lon": [
          -106.6228028
         ],
         "marker": {
          "color": "#ab63fa"
         },
         "mode": "markers",
         "name": "746",
         "showlegend": true,
         "subplot": "mapbox",
         "type": "scattermapbox"
        },
        {
         "hovertemplate": "vehicle_id=748<br>latitude=%{lat}<br>longitude=%{lon}<extra></extra>",
         "lat": [
          35.071638
         ],
         "legendgroup": "748",
         "lon": [
          -106.622706
         ],
         "marker": {
          "color": "#FFA15A"
         },
         "mode": "markers",
         "name": "748",
         "showlegend": true,
         "subplot": "mapbox",
         "type": "scattermapbox"
        },
        {
         "hovertemplate": "vehicle_id=750<br>latitude=%{lat}<br>longitude=%{lon}<extra></extra>",
         "lat": [
          35.0717402
         ],
         "legendgroup": "750",
         "lon": [
          -106.622638
         ],
         "marker": {
          "color": "#19d3f3"
         },
         "mode": "markers",
         "name": "750",
         "showlegend": true,
         "subplot": "mapbox",
         "type": "scattermapbox"
        },
        {
         "hovertemplate": "vehicle_id=753<br>latitude=%{lat}<br>longitude=%{lon}<extra></extra>",
         "lat": [
          35.0715808
         ],
         "legendgroup": "753",
         "lon": [
          -106.6227925
         ],
         "marker": {
          "color": "#FF6692"
         },
         "mode": "markers",
         "name": "753",
         "showlegend": true,
         "subplot": "mapbox",
         "type": "scattermapbox"
        },
        {
         "hovertemplate": "vehicle_id=754<br>latitude=%{lat}<br>longitude=%{lon}<extra></extra>",
         "lat": [
          35.0718072
         ],
         "legendgroup": "754",
         "lon": [
          -106.6224828
         ],
         "marker": {
          "color": "#B6E880"
         },
         "mode": "markers",
         "name": "754",
         "showlegend": true,
         "subplot": "mapbox",
         "type": "scattermapbox"
        },
        {
         "hovertemplate": "vehicle_id=756<br>latitude=%{lat}<br>longitude=%{lon}<extra></extra>",
         "lat": [
          35.0716403
         ],
         "legendgroup": "756",
         "lon": [
          -106.6223748
         ],
         "marker": {
          "color": "#FF97FF"
         },
         "mode": "markers",
         "name": "756",
         "showlegend": true,
         "subplot": "mapbox",
         "type": "scattermapbox"
        },
        {
         "hovertemplate": "vehicle_id=758<br>latitude=%{lat}<br>longitude=%{lon}<extra></extra>",
         "lat": [
          35.071476
         ],
         "legendgroup": "758",
         "lon": [
          -106.6225185
         ],
         "marker": {
          "color": "#FECB52"
         },
         "mode": "markers",
         "name": "758",
         "showlegend": true,
         "subplot": "mapbox",
         "type": "scattermapbox"
        },
        {
         "hovertemplate": "vehicle_id=950<br>latitude=%{lat}<br>longitude=%{lon}<extra></extra>",
         "lat": [
          35.0716465
         ],
         "legendgroup": "950",
         "lon": [
          -106.623565
         ],
         "marker": {
          "color": "#636efa"
         },
         "mode": "markers",
         "name": "950",
         "showlegend": true,
         "subplot": "mapbox",
         "type": "scattermapbox"
        },
        {
         "hovertemplate": "vehicle_id=951<br>latitude=%{lat}<br>longitude=%{lon}<extra></extra>",
         "lat": [
          35.071873
         ],
         "legendgroup": "951",
         "lon": [
          -106.622788
         ],
         "marker": {
          "color": "#EF553B"
         },
         "mode": "markers",
         "name": "951",
         "showlegend": true,
         "subplot": "mapbox",
         "type": "scattermapbox"
        },
        {
         "hovertemplate": "vehicle_id=953<br>latitude=%{lat}<br>longitude=%{lon}<extra></extra>",
         "lat": [
          35.0718682
         ],
         "legendgroup": "953",
         "lon": [
          -106.6223365
         ],
         "marker": {
          "color": "#00cc96"
         },
         "mode": "markers",
         "name": "953",
         "showlegend": true,
         "subplot": "mapbox",
         "type": "scattermapbox"
        },
        {
         "hovertemplate": "vehicle_id=954<br>latitude=%{lat}<br>longitude=%{lon}<extra></extra>",
         "lat": [
          35.0718167
         ],
         "legendgroup": "954",
         "lon": [
          -106.6223145
         ],
         "marker": {
          "color": "#ab63fa"
         },
         "mode": "markers",
         "name": "954",
         "showlegend": true,
         "subplot": "mapbox",
         "type": "scattermapbox"
        },
        {
         "hovertemplate": "vehicle_id=955<br>latitude=%{lat}<br>longitude=%{lon}<extra></extra>",
         "lat": [
          35.0717758
         ],
         "legendgroup": "955",
         "lon": [
          -106.6226217
         ],
         "marker": {
          "color": "#FFA15A"
         },
         "mode": "markers",
         "name": "955",
         "showlegend": true,
         "subplot": "mapbox",
         "type": "scattermapbox"
        },
        {
         "hovertemplate": "vehicle_id=957<br>latitude=%{lat}<br>longitude=%{lon}<extra></extra>",
         "lat": [
          35.0716652
         ],
         "legendgroup": "957",
         "lon": [
          -106.6224542
         ],
         "marker": {
          "color": "#19d3f3"
         },
         "mode": "markers",
         "name": "957",
         "showlegend": true,
         "subplot": "mapbox",
         "type": "scattermapbox"
        },
        {
         "hovertemplate": "vehicle_id=962<br>latitude=%{lat}<br>longitude=%{lon}<extra></extra>",
         "lat": [
          35.0714492
         ],
         "legendgroup": "962",
         "lon": [
          -106.6239702
         ],
         "marker": {
          "color": "#FF6692"
         },
         "mode": "markers",
         "name": "962",
         "showlegend": true,
         "subplot": "mapbox",
         "type": "scattermapbox"
        },
        {
         "hovertemplate": "vehicle_id=964<br>latitude=%{lat}<br>longitude=%{lon}<extra></extra>",
         "lat": [
          35.0719632
         ],
         "legendgroup": "964",
         "lon": [
          -106.6234857
         ],
         "marker": {
          "color": "#B6E880"
         },
         "mode": "markers",
         "name": "964",
         "showlegend": true,
         "subplot": "mapbox",
         "type": "scattermapbox"
        },
        {
         "hovertemplate": "vehicle_id=966<br>latitude=%{lat}<br>longitude=%{lon}<extra></extra>",
         "lat": [
          35.0717657
         ],
         "legendgroup": "966",
         "lon": [
          -106.6227747
         ],
         "marker": {
          "color": "#FF97FF"
         },
         "mode": "markers",
         "name": "966",
         "showlegend": true,
         "subplot": "mapbox",
         "type": "scattermapbox"
        },
        {
         "hovertemplate": "vehicle_id=969<br>latitude=%{lat}<br>longitude=%{lon}<extra></extra>",
         "lat": [
          35.0894028
         ],
         "legendgroup": "969",
         "lon": [
          -106.735066
         ],
         "marker": {
          "color": "#FECB52"
         },
         "mode": "markers",
         "name": "969",
         "showlegend": true,
         "subplot": "mapbox",
         "type": "scattermapbox"
        },
        {
         "hovertemplate": "vehicle_id=973<br>latitude=%{lat}<br>longitude=%{lon}<extra></extra>",
         "lat": [
          35.0895382
         ],
         "legendgroup": "973",
         "lon": [
          -106.733228
         ],
         "marker": {
          "color": "#636efa"
         },
         "mode": "markers",
         "name": "973",
         "showlegend": true,
         "subplot": "mapbox",
         "type": "scattermapbox"
        },
        {
         "hovertemplate": "vehicle_id=975<br>latitude=%{lat}<br>longitude=%{lon}<extra></extra>",
         "lat": [
          35.0894593
         ],
         "legendgroup": "975",
         "lon": [
          -106.733248
         ],
         "marker": {
          "color": "#EF553B"
         },
         "mode": "markers",
         "name": "975",
         "showlegend": true,
         "subplot": "mapbox",
         "type": "scattermapbox"
        },
        {
         "hovertemplate": "vehicle_id=980<br>latitude=%{lat}<br>longitude=%{lon}<extra></extra>",
         "lat": [
          35.0891958
         ],
         "legendgroup": "980",
         "lon": [
          -106.7334672
         ],
         "marker": {
          "color": "#00cc96"
         },
         "mode": "markers",
         "name": "980",
         "showlegend": true,
         "subplot": "mapbox",
         "type": "scattermapbox"
        },
        {
         "hovertemplate": "vehicle_id=1504<br>latitude=%{lat}<br>longitude=%{lon}<extra></extra>",
         "lat": [
          35.08986
         ],
         "legendgroup": "1504",
         "lon": [
          -106.73292
         ],
         "marker": {
          "color": "#ab63fa"
         },
         "mode": "markers",
         "name": "1504",
         "showlegend": true,
         "subplot": "mapbox",
         "type": "scattermapbox"
        },
        {
         "hovertemplate": "vehicle_id=1505<br>latitude=%{lat}<br>longitude=%{lon}<extra></extra>",
         "lat": [
          35.07167
         ],
         "legendgroup": "1505",
         "lon": [
          -106.62298
         ],
         "marker": {
          "color": "#FFA15A"
         },
         "mode": "markers",
         "name": "1505",
         "showlegend": true,
         "subplot": "mapbox",
         "type": "scattermapbox"
        },
        {
         "hovertemplate": "vehicle_id=1506<br>latitude=%{lat}<br>longitude=%{lon}<extra></extra>",
         "lat": [
          35.07201
         ],
         "legendgroup": "1506",
         "lon": [
          -106.62352
         ],
         "marker": {
          "color": "#19d3f3"
         },
         "mode": "markers",
         "name": "1506",
         "showlegend": true,
         "subplot": "mapbox",
         "type": "scattermapbox"
        },
        {
         "hovertemplate": "vehicle_id=1507<br>latitude=%{lat}<br>longitude=%{lon}<extra></extra>",
         "lat": [
          35.09005
         ],
         "legendgroup": "1507",
         "lon": [
          -106.73375
         ],
         "marker": {
          "color": "#FF6692"
         },
         "mode": "markers",
         "name": "1507",
         "showlegend": true,
         "subplot": "mapbox",
         "type": "scattermapbox"
        },
        {
         "hovertemplate": "vehicle_id=1509<br>latitude=%{lat}<br>longitude=%{lon}<extra></extra>",
         "lat": [
          35.08966
         ],
         "legendgroup": "1509",
         "lon": [
          -106.73312
         ],
         "marker": {
          "color": "#B6E880"
         },
         "mode": "markers",
         "name": "1509",
         "showlegend": true,
         "subplot": "mapbox",
         "type": "scattermapbox"
        },
        {
         "hovertemplate": "vehicle_id=1511<br>latitude=%{lat}<br>longitude=%{lon}<extra></extra>",
         "lat": [
          35.07195
         ],
         "legendgroup": "1511",
         "lon": [
          -106.62357
         ],
         "marker": {
          "color": "#FF97FF"
         },
         "mode": "markers",
         "name": "1511",
         "showlegend": true,
         "subplot": "mapbox",
         "type": "scattermapbox"
        },
        {
         "hovertemplate": "vehicle_id=1512<br>latitude=%{lat}<br>longitude=%{lon}<extra></extra>",
         "lat": [
          35.08988
         ],
         "legendgroup": "1512",
         "lon": [
          -106.73384
         ],
         "marker": {
          "color": "#FECB52"
         },
         "mode": "markers",
         "name": "1512",
         "showlegend": true,
         "subplot": "mapbox",
         "type": "scattermapbox"
        },
        {
         "hovertemplate": "vehicle_id=1517<br>latitude=%{lat}<br>longitude=%{lon}<extra></extra>",
         "lat": [
          35.07162
         ],
         "legendgroup": "1517",
         "lon": [
          -106.62299
         ],
         "marker": {
          "color": "#636efa"
         },
         "mode": "markers",
         "name": "1517",
         "showlegend": true,
         "subplot": "mapbox",
         "type": "scattermapbox"
        },
        {
         "hovertemplate": "vehicle_id=1518<br>latitude=%{lat}<br>longitude=%{lon}<extra></extra>",
         "lat": [
          35.0899
         ],
         "legendgroup": "1518",
         "lon": [
          -106.73376
         ],
         "marker": {
          "color": "#EF553B"
         },
         "mode": "markers",
         "name": "1518",
         "showlegend": true,
         "subplot": "mapbox",
         "type": "scattermapbox"
        },
        {
         "hovertemplate": "vehicle_id=1519<br>latitude=%{lat}<br>longitude=%{lon}<extra></extra>",
         "lat": [
          35.09011
         ],
         "legendgroup": "1519",
         "lon": [
          -106.73293
         ],
         "marker": {
          "color": "#00cc96"
         },
         "mode": "markers",
         "name": "1519",
         "showlegend": true,
         "subplot": "mapbox",
         "type": "scattermapbox"
        },
        {
         "hovertemplate": "vehicle_id=1521<br>latitude=%{lat}<br>longitude=%{lon}<extra></extra>",
         "lat": [
          35.08967
         ],
         "legendgroup": "1521",
         "lon": [
          -106.73336
         ],
         "marker": {
          "color": "#ab63fa"
         },
         "mode": "markers",
         "name": "1521",
         "showlegend": true,
         "subplot": "mapbox",
         "type": "scattermapbox"
        },
        {
         "hovertemplate": "vehicle_id=1523<br>latitude=%{lat}<br>longitude=%{lon}<extra></extra>",
         "lat": [
          35.08993
         ],
         "legendgroup": "1523",
         "lon": [
          -106.73384
         ],
         "marker": {
          "color": "#FFA15A"
         },
         "mode": "markers",
         "name": "1523",
         "showlegend": true,
         "subplot": "mapbox",
         "type": "scattermapbox"
        },
        {
         "hovertemplate": "vehicle_id=1524<br>latitude=%{lat}<br>longitude=%{lon}<extra></extra>",
         "lat": [
          35.07166
         ],
         "legendgroup": "1524",
         "lon": [
          -106.62297
         ],
         "marker": {
          "color": "#19d3f3"
         },
         "mode": "markers",
         "name": "1524",
         "showlegend": true,
         "subplot": "mapbox",
         "type": "scattermapbox"
        },
        {
         "hovertemplate": "vehicle_id=1525<br>latitude=%{lat}<br>longitude=%{lon}<extra></extra>",
         "lat": [
          35.08965
         ],
         "legendgroup": "1525",
         "lon": [
          -106.73361
         ],
         "marker": {
          "color": "#FF6692"
         },
         "mode": "markers",
         "name": "1525",
         "showlegend": true,
         "subplot": "mapbox",
         "type": "scattermapbox"
        },
        {
         "hovertemplate": "vehicle_id=1526<br>latitude=%{lat}<br>longitude=%{lon}<extra></extra>",
         "lat": [
          35.08966
         ],
         "legendgroup": "1526",
         "lon": [
          -106.73347
         ],
         "marker": {
          "color": "#B6E880"
         },
         "mode": "markers",
         "name": "1526",
         "showlegend": true,
         "subplot": "mapbox",
         "type": "scattermapbox"
        },
        {
         "hovertemplate": "vehicle_id=1527<br>latitude=%{lat}<br>longitude=%{lon}<extra></extra>",
         "lat": [
          35.08999
         ],
         "legendgroup": "1527",
         "lon": [
          -106.73301
         ],
         "marker": {
          "color": "#FF97FF"
         },
         "mode": "markers",
         "name": "1527",
         "showlegend": true,
         "subplot": "mapbox",
         "type": "scattermapbox"
        },
        {
         "hovertemplate": "vehicle_id=1528<br>latitude=%{lat}<br>longitude=%{lon}<extra></extra>",
         "lat": [
          35.0718
         ],
         "legendgroup": "1528",
         "lon": [
          -106.62299
         ],
         "marker": {
          "color": "#FECB52"
         },
         "mode": "markers",
         "name": "1528",
         "showlegend": true,
         "subplot": "mapbox",
         "type": "scattermapbox"
        },
        {
         "hovertemplate": "vehicle_id=1530<br>latitude=%{lat}<br>longitude=%{lon}<extra></extra>",
         "lat": [
          35.09056
         ],
         "legendgroup": "1530",
         "lon": [
          -106.73451
         ],
         "marker": {
          "color": "#636efa"
         },
         "mode": "markers",
         "name": "1530",
         "showlegend": true,
         "subplot": "mapbox",
         "type": "scattermapbox"
        },
        {
         "hovertemplate": "vehicle_id=1531<br>latitude=%{lat}<br>longitude=%{lon}<extra></extra>",
         "lat": [
          35.09001
         ],
         "legendgroup": "1531",
         "lon": [
          -106.73302
         ],
         "marker": {
          "color": "#EF553B"
         },
         "mode": "markers",
         "name": "1531",
         "showlegend": true,
         "subplot": "mapbox",
         "type": "scattermapbox"
        },
        {
         "hovertemplate": "vehicle_id=1534<br>latitude=%{lat}<br>longitude=%{lon}<extra></extra>",
         "lat": [
          35.09009
         ],
         "legendgroup": "1534",
         "lon": [
          -106.73292
         ],
         "marker": {
          "color": "#00cc96"
         },
         "mode": "markers",
         "name": "1534",
         "showlegend": true,
         "subplot": "mapbox",
         "type": "scattermapbox"
        },
        {
         "hovertemplate": "vehicle_id=1537<br>latitude=%{lat}<br>longitude=%{lon}<extra></extra>",
         "lat": [
          35.07175
         ],
         "legendgroup": "1537",
         "lon": [
          -106.62296
         ],
         "marker": {
          "color": "#ab63fa"
         },
         "mode": "markers",
         "name": "1537",
         "showlegend": true,
         "subplot": "mapbox",
         "type": "scattermapbox"
        },
        {
         "hovertemplate": "vehicle_id=1538<br>latitude=%{lat}<br>longitude=%{lon}<extra></extra>",
         "lat": [
          35.09051
         ],
         "legendgroup": "1538",
         "lon": [
          -106.7347
         ],
         "marker": {
          "color": "#FFA15A"
         },
         "mode": "markers",
         "name": "1538",
         "showlegend": true,
         "subplot": "mapbox",
         "type": "scattermapbox"
        },
        {
         "hovertemplate": "vehicle_id=1801<br>latitude=%{lat}<br>longitude=%{lon}<extra></extra>",
         "lat": [
          35.0899
         ],
         "legendgroup": "1801",
         "lon": [
          -106.73319
         ],
         "marker": {
          "color": "#19d3f3"
         },
         "mode": "markers",
         "name": "1801",
         "showlegend": true,
         "subplot": "mapbox",
         "type": "scattermapbox"
        },
        {
         "hovertemplate": "vehicle_id=1805<br>latitude=%{lat}<br>longitude=%{lon}<extra></extra>",
         "lat": [
          35.09013
         ],
         "legendgroup": "1805",
         "lon": [
          -106.733
         ],
         "marker": {
          "color": "#FF6692"
         },
         "mode": "markers",
         "name": "1805",
         "showlegend": true,
         "subplot": "mapbox",
         "type": "scattermapbox"
        },
        {
         "hovertemplate": "vehicle_id=1806<br>latitude=%{lat}<br>longitude=%{lon}<extra></extra>",
         "lat": [
          35.08989
         ],
         "legendgroup": "1806",
         "lon": [
          -106.73328
         ],
         "marker": {
          "color": "#B6E880"
         },
         "mode": "markers",
         "name": "1806",
         "showlegend": true,
         "subplot": "mapbox",
         "type": "scattermapbox"
        },
        {
         "hovertemplate": "vehicle_id=1807<br>latitude=%{lat}<br>longitude=%{lon}<extra></extra>",
         "lat": [
          35.09007
         ],
         "legendgroup": "1807",
         "lon": [
          -106.7329
         ],
         "marker": {
          "color": "#FF97FF"
         },
         "mode": "markers",
         "name": "1807",
         "showlegend": true,
         "subplot": "mapbox",
         "type": "scattermapbox"
        },
        {
         "hovertemplate": "vehicle_id=1809<br>latitude=%{lat}<br>longitude=%{lon}<extra></extra>",
         "lat": [
          35.08999
         ],
         "legendgroup": "1809",
         "lon": [
          -106.73343
         ],
         "marker": {
          "color": "#FECB52"
         },
         "mode": "markers",
         "name": "1809",
         "showlegend": true,
         "subplot": "mapbox",
         "type": "scattermapbox"
        },
        {
         "hovertemplate": "vehicle_id=1811<br>latitude=%{lat}<br>longitude=%{lon}<extra></extra>",
         "lat": [
          35.09012
         ],
         "legendgroup": "1811",
         "lon": [
          -106.73302
         ],
         "marker": {
          "color": "#636efa"
         },
         "mode": "markers",
         "name": "1811",
         "showlegend": true,
         "subplot": "mapbox",
         "type": "scattermapbox"
        },
        {
         "hovertemplate": "vehicle_id=1812<br>latitude=%{lat}<br>longitude=%{lon}<extra></extra>",
         "lat": [
          35.08988
         ],
         "legendgroup": "1812",
         "lon": [
          -106.73318
         ],
         "marker": {
          "color": "#EF553B"
         },
         "mode": "markers",
         "name": "1812",
         "showlegend": true,
         "subplot": "mapbox",
         "type": "scattermapbox"
        },
        {
         "hovertemplate": "vehicle_id=1813<br>latitude=%{lat}<br>longitude=%{lon}<extra></extra>",
         "lat": [
          35.08942
         ],
         "legendgroup": "1813",
         "lon": [
          -106.73458
         ],
         "marker": {
          "color": "#00cc96"
         },
         "mode": "markers",
         "name": "1813",
         "showlegend": true,
         "subplot": "mapbox",
         "type": "scattermapbox"
        },
        {
         "hovertemplate": "vehicle_id=1814<br>latitude=%{lat}<br>longitude=%{lon}<extra></extra>",
         "lat": [
          35.08991
         ],
         "legendgroup": "1814",
         "lon": [
          -106.73291
         ],
         "marker": {
          "color": "#ab63fa"
         },
         "mode": "markers",
         "name": "1814",
         "showlegend": true,
         "subplot": "mapbox",
         "type": "scattermapbox"
        },
        {
         "hovertemplate": "vehicle_id=1816<br>latitude=%{lat}<br>longitude=%{lon}<extra></extra>",
         "lat": [
          35.09006
         ],
         "legendgroup": "1816",
         "lon": [
          -106.7332
         ],
         "marker": {
          "color": "#FFA15A"
         },
         "mode": "markers",
         "name": "1816",
         "showlegend": true,
         "subplot": "mapbox",
         "type": "scattermapbox"
        },
        {
         "hovertemplate": "vehicle_id=1817<br>latitude=%{lat}<br>longitude=%{lon}<extra></extra>",
         "lat": [
          35.09054
         ],
         "legendgroup": "1817",
         "lon": [
          -106.73444
         ],
         "marker": {
          "color": "#19d3f3"
         },
         "mode": "markers",
         "name": "1817",
         "showlegend": true,
         "subplot": "mapbox",
         "type": "scattermapbox"
        },
        {
         "hovertemplate": "vehicle_id=1818<br>latitude=%{lat}<br>longitude=%{lon}<extra></extra>",
         "lat": [
          35.08996
         ],
         "legendgroup": "1818",
         "lon": [
          -106.733
         ],
         "marker": {
          "color": "#FF6692"
         },
         "mode": "markers",
         "name": "1818",
         "showlegend": true,
         "subplot": "mapbox",
         "type": "scattermapbox"
        },
        {
         "hovertemplate": "vehicle_id=1820<br>latitude=%{lat}<br>longitude=%{lon}<extra></extra>",
         "lat": [
          35.07637
         ],
         "legendgroup": "1820",
         "lon": [
          -106.69701
         ],
         "marker": {
          "color": "#B6E880"
         },
         "mode": "markers",
         "name": "1820",
         "showlegend": true,
         "subplot": "mapbox",
         "type": "scattermapbox"
        },
        {
         "hovertemplate": "vehicle_id=1822<br>latitude=%{lat}<br>longitude=%{lon}<extra></extra>",
         "lat": [
          35.08997
         ],
         "legendgroup": "1822",
         "lon": [
          -106.733
         ],
         "marker": {
          "color": "#FF97FF"
         },
         "mode": "markers",
         "name": "1822",
         "showlegend": true,
         "subplot": "mapbox",
         "type": "scattermapbox"
        },
        {
         "hovertemplate": "vehicle_id=1823<br>latitude=%{lat}<br>longitude=%{lon}<extra></extra>",
         "lat": [
          35.08989
         ],
         "legendgroup": "1823",
         "lon": [
          -106.73345
         ],
         "marker": {
          "color": "#FECB52"
         },
         "mode": "markers",
         "name": "1823",
         "showlegend": true,
         "subplot": "mapbox",
         "type": "scattermapbox"
        },
        {
         "hovertemplate": "vehicle_id=1824<br>latitude=%{lat}<br>longitude=%{lon}<extra></extra>",
         "lat": [
          35.09363
         ],
         "legendgroup": "1824",
         "lon": [
          -106.64744
         ],
         "marker": {
          "color": "#636efa"
         },
         "mode": "markers",
         "name": "1824",
         "showlegend": true,
         "subplot": "mapbox",
         "type": "scattermapbox"
        },
        {
         "hovertemplate": "vehicle_id=1828<br>latitude=%{lat}<br>longitude=%{lon}<extra></extra>",
         "lat": [
          35.09007
         ],
         "legendgroup": "1828",
         "lon": [
          -106.73329
         ],
         "marker": {
          "color": "#EF553B"
         },
         "mode": "markers",
         "name": "1828",
         "showlegend": true,
         "subplot": "mapbox",
         "type": "scattermapbox"
        },
        {
         "hovertemplate": "vehicle_id=1829<br>latitude=%{lat}<br>longitude=%{lon}<extra></extra>",
         "lat": [
          35.08993
         ],
         "legendgroup": "1829",
         "lon": [
          -106.73344
         ],
         "marker": {
          "color": "#00cc96"
         },
         "mode": "markers",
         "name": "1829",
         "showlegend": true,
         "subplot": "mapbox",
         "type": "scattermapbox"
        },
        {
         "hovertemplate": "vehicle_id=1830<br>latitude=%{lat}<br>longitude=%{lon}<extra></extra>",
         "lat": [
          35.09011
         ],
         "legendgroup": "1830",
         "lon": [
          -106.73328
         ],
         "marker": {
          "color": "#ab63fa"
         },
         "mode": "markers",
         "name": "1830",
         "showlegend": true,
         "subplot": "mapbox",
         "type": "scattermapbox"
        },
        {
         "hovertemplate": "vehicle_id=1832<br>latitude=%{lat}<br>longitude=%{lon}<extra></extra>",
         "lat": [
          35.09005
         ],
         "legendgroup": "1832",
         "lon": [
          -106.7329
         ],
         "marker": {
          "color": "#FFA15A"
         },
         "mode": "markers",
         "name": "1832",
         "showlegend": true,
         "subplot": "mapbox",
         "type": "scattermapbox"
        },
        {
         "hovertemplate": "vehicle_id=1835<br>latitude=%{lat}<br>longitude=%{lon}<extra></extra>",
         "lat": [
          35.09017
         ],
         "legendgroup": "1835",
         "lon": [
          -106.73318
         ],
         "marker": {
          "color": "#19d3f3"
         },
         "mode": "markers",
         "name": "1835",
         "showlegend": true,
         "subplot": "mapbox",
         "type": "scattermapbox"
        },
        {
         "hovertemplate": "vehicle_id=1837<br>latitude=%{lat}<br>longitude=%{lon}<extra></extra>",
         "lat": [
          35.09012
         ],
         "legendgroup": "1837",
         "lon": [
          -106.733
         ],
         "marker": {
          "color": "#FF6692"
         },
         "mode": "markers",
         "name": "1837",
         "showlegend": true,
         "subplot": "mapbox",
         "type": "scattermapbox"
        },
        {
         "hovertemplate": "vehicle_id=1840<br>latitude=%{lat}<br>longitude=%{lon}<extra></extra>",
         "lat": [
          35.08995
         ],
         "legendgroup": "1840",
         "lon": [
          -106.7329
         ],
         "marker": {
          "color": "#B6E880"
         },
         "mode": "markers",
         "name": "1840",
         "showlegend": true,
         "subplot": "mapbox",
         "type": "scattermapbox"
        },
        {
         "hovertemplate": "vehicle_id=1841<br>latitude=%{lat}<br>longitude=%{lon}<extra></extra>",
         "lat": [
          35.08989
         ],
         "legendgroup": "1841",
         "lon": [
          -106.73301
         ],
         "marker": {
          "color": "#FF97FF"
         },
         "mode": "markers",
         "name": "1841",
         "showlegend": true,
         "subplot": "mapbox",
         "type": "scattermapbox"
        },
        {
         "hovertemplate": "vehicle_id=1842<br>latitude=%{lat}<br>longitude=%{lon}<extra></extra>",
         "lat": [
          35.09007
         ],
         "legendgroup": "1842",
         "lon": [
          -106.73319
         ],
         "marker": {
          "color": "#FECB52"
         },
         "mode": "markers",
         "name": "1842",
         "showlegend": true,
         "subplot": "mapbox",
         "type": "scattermapbox"
        },
        {
         "hovertemplate": "vehicle_id=1843<br>latitude=%{lat}<br>longitude=%{lon}<extra></extra>",
         "lat": [
          35.09057
         ],
         "legendgroup": "1843",
         "lon": [
          -106.73433
         ],
         "marker": {
          "color": "#636efa"
         },
         "mode": "markers",
         "name": "1843",
         "showlegend": true,
         "subplot": "mapbox",
         "type": "scattermapbox"
        },
        {
         "hovertemplate": "vehicle_id=1904<br>latitude=%{lat}<br>longitude=%{lon}<extra></extra>",
         "lat": [
          35.0891557
         ],
         "legendgroup": "1904",
         "lon": [
          -106.7334793
         ],
         "marker": {
          "color": "#EF553B"
         },
         "mode": "markers",
         "name": "1904",
         "showlegend": true,
         "subplot": "mapbox",
         "type": "scattermapbox"
        },
        {
         "hovertemplate": "vehicle_id=1907<br>latitude=%{lat}<br>longitude=%{lon}<extra></extra>",
         "lat": [
          35.0891932
         ],
         "legendgroup": "1907",
         "lon": [
          -106.7347622
         ],
         "marker": {
          "color": "#00cc96"
         },
         "mode": "markers",
         "name": "1907",
         "showlegend": true,
         "subplot": "mapbox",
         "type": "scattermapbox"
        },
        {
         "hovertemplate": "vehicle_id=1910<br>latitude=%{lat}<br>longitude=%{lon}<extra></extra>",
         "lat": [
          35.0887497
         ],
         "legendgroup": "1910",
         "lon": [
          -106.733845
         ],
         "marker": {
          "color": "#ab63fa"
         },
         "mode": "markers",
         "name": "1910",
         "showlegend": true,
         "subplot": "mapbox",
         "type": "scattermapbox"
        },
        {
         "hovertemplate": "vehicle_id=1912<br>latitude=%{lat}<br>longitude=%{lon}<extra></extra>",
         "lat": [
          35.0885503
         ],
         "legendgroup": "1912",
         "lon": [
          -106.7338355
         ],
         "marker": {
          "color": "#FFA15A"
         },
         "mode": "markers",
         "name": "1912",
         "showlegend": true,
         "subplot": "mapbox",
         "type": "scattermapbox"
        },
        {
         "hovertemplate": "vehicle_id=1914<br>latitude=%{lat}<br>longitude=%{lon}<extra></extra>",
         "lat": [
          35.0886772
         ],
         "legendgroup": "1914",
         "lon": [
          -106.73383
         ],
         "marker": {
          "color": "#19d3f3"
         },
         "mode": "markers",
         "name": "1914",
         "showlegend": true,
         "subplot": "mapbox",
         "type": "scattermapbox"
        },
        {
         "hovertemplate": "vehicle_id=1915<br>latitude=%{lat}<br>longitude=%{lon}<extra></extra>",
         "lat": [
          35.0892032
         ],
         "legendgroup": "1915",
         "lon": [
          -106.7338872
         ],
         "marker": {
          "color": "#FF6692"
         },
         "mode": "markers",
         "name": "1915",
         "showlegend": true,
         "subplot": "mapbox",
         "type": "scattermapbox"
        },
        {
         "hovertemplate": "vehicle_id=1917<br>latitude=%{lat}<br>longitude=%{lon}<extra></extra>",
         "lat": [
          35.0891598
         ],
         "legendgroup": "1917",
         "lon": [
          -106.7332608
         ],
         "marker": {
          "color": "#B6E880"
         },
         "mode": "markers",
         "name": "1917",
         "showlegend": true,
         "subplot": "mapbox",
         "type": "scattermapbox"
        },
        {
         "hovertemplate": "vehicle_id=1918<br>latitude=%{lat}<br>longitude=%{lon}<extra></extra>",
         "lat": [
          35.0889887
         ],
         "legendgroup": "1918",
         "lon": [
          -106.7331127
         ],
         "marker": {
          "color": "#FF97FF"
         },
         "mode": "markers",
         "name": "1918",
         "showlegend": true,
         "subplot": "mapbox",
         "type": "scattermapbox"
        },
        {
         "hovertemplate": "vehicle_id=1919<br>latitude=%{lat}<br>longitude=%{lon}<extra></extra>",
         "lat": [
          35.088579
         ],
         "legendgroup": "1919",
         "lon": [
          -106.7338553
         ],
         "marker": {
          "color": "#FECB52"
         },
         "mode": "markers",
         "name": "1919",
         "showlegend": true,
         "subplot": "mapbox",
         "type": "scattermapbox"
        },
        {
         "hovertemplate": "vehicle_id=1921<br>latitude=%{lat}<br>longitude=%{lon}<extra></extra>",
         "lat": [
          35.0891748
         ],
         "legendgroup": "1921",
         "lon": [
          -106.7334698
         ],
         "marker": {
          "color": "#636efa"
         },
         "mode": "markers",
         "name": "1921",
         "showlegend": true,
         "subplot": "mapbox",
         "type": "scattermapbox"
        },
        {
         "hovertemplate": "vehicle_id=1922<br>latitude=%{lat}<br>longitude=%{lon}<extra></extra>",
         "lat": [
          35.0898647
         ],
         "legendgroup": "1922",
         "lon": [
          -106.732603
         ],
         "marker": {
          "color": "#EF553B"
         },
         "mode": "markers",
         "name": "1922",
         "showlegend": true,
         "subplot": "mapbox",
         "type": "scattermapbox"
        },
        {
         "hovertemplate": "vehicle_id=1926<br>latitude=%{lat}<br>longitude=%{lon}<extra></extra>",
         "lat": [
          35.0890222
         ],
         "legendgroup": "1926",
         "lon": [
          -106.7331167
         ],
         "marker": {
          "color": "#00cc96"
         },
         "mode": "markers",
         "name": "1926",
         "showlegend": true,
         "subplot": "mapbox",
         "type": "scattermapbox"
        },
        {
         "hovertemplate": "vehicle_id=1927<br>latitude=%{lat}<br>longitude=%{lon}<extra></extra>",
         "lat": [
          35.0891358
         ],
         "legendgroup": "1927",
         "lon": [
          -106.7330518
         ],
         "marker": {
          "color": "#ab63fa"
         },
         "mode": "markers",
         "name": "1927",
         "showlegend": true,
         "subplot": "mapbox",
         "type": "scattermapbox"
        },
        {
         "hovertemplate": "vehicle_id=1929<br>latitude=%{lat}<br>longitude=%{lon}<extra></extra>",
         "lat": [
          35.0891512
         ],
         "legendgroup": "1929",
         "lon": [
          -106.7337113
         ],
         "marker": {
          "color": "#FFA15A"
         },
         "mode": "markers",
         "name": "1929",
         "showlegend": true,
         "subplot": "mapbox",
         "type": "scattermapbox"
        },
        {
         "hovertemplate": "vehicle_id=4102<br>latitude=%{lat}<br>longitude=%{lon}<extra></extra>",
         "lat": [
          35.0895573
         ],
         "legendgroup": "4102",
         "lon": [
          -106.7340943
         ],
         "marker": {
          "color": "#19d3f3"
         },
         "mode": "markers",
         "name": "4102",
         "showlegend": true,
         "subplot": "mapbox",
         "type": "scattermapbox"
        },
        {
         "hovertemplate": "vehicle_id=1536<br>latitude=%{lat}<br>longitude=%{lon}<extra></extra>",
         "lat": [
          35.08996
         ],
         "legendgroup": "1536",
         "lon": [
          -106.7332
         ],
         "marker": {
          "color": "#FF6692"
         },
         "mode": "markers",
         "name": "1536",
         "showlegend": true,
         "subplot": "mapbox",
         "type": "scattermapbox"
        },
        {
         "hovertemplate": "vehicle_id=1810<br>latitude=%{lat}<br>longitude=%{lon}<extra></extra>",
         "lat": [
          35.08999
         ],
         "legendgroup": "1810",
         "lon": [
          -106.7329
         ],
         "marker": {
          "color": "#B6E880"
         },
         "mode": "markers",
         "name": "1810",
         "showlegend": true,
         "subplot": "mapbox",
         "type": "scattermapbox"
        },
        {
         "hovertemplate": "vehicle_id=963<br>latitude=%{lat}<br>longitude=%{lon}<extra></extra>",
         "lat": [
          35.0900178
         ],
         "legendgroup": "963",
         "lon": [
          -106.7347053
         ],
         "marker": {
          "color": "#FF97FF"
         },
         "mode": "markers",
         "name": "963",
         "showlegend": true,
         "subplot": "mapbox",
         "type": "scattermapbox"
        },
        {
         "hovertemplate": "vehicle_id=757<br>latitude=%{lat}<br>longitude=%{lon}<extra></extra>",
         "lat": [
          35.0723963
         ],
         "legendgroup": "757",
         "lon": [
          -106.6232795
         ],
         "marker": {
          "color": "#FECB52"
         },
         "mode": "markers",
         "name": "757",
         "showlegend": true,
         "subplot": "mapbox",
         "type": "scattermapbox"
        },
        {
         "hovertemplate": "vehicle_id=1916<br>latitude=%{lat}<br>longitude=%{lon}<extra></extra>",
         "lat": [
          35.0891182
         ],
         "legendgroup": "1916",
         "lon": [
          -106.7331262
         ],
         "marker": {
          "color": "#636efa"
         },
         "mode": "markers",
         "name": "1916",
         "showlegend": true,
         "subplot": "mapbox",
         "type": "scattermapbox"
        },
        {
         "hovertemplate": "vehicle_id=1819<br>latitude=%{lat}<br>longitude=%{lon}<extra></extra>",
         "lat": [
          35.09052
         ],
         "legendgroup": "1819",
         "lon": [
          -106.73478
         ],
         "marker": {
          "color": "#EF553B"
         },
         "mode": "markers",
         "name": "1819",
         "showlegend": true,
         "subplot": "mapbox",
         "type": "scattermapbox"
        },
        {
         "hovertemplate": "vehicle_id=959<br>latitude=%{lat}<br>longitude=%{lon}<extra></extra>",
         "lat": [
          35.071862
         ],
         "legendgroup": "959",
         "lon": [
          -106.622462
         ],
         "marker": {
          "color": "#00cc96"
         },
         "mode": "markers",
         "name": "959",
         "showlegend": true,
         "subplot": "mapbox",
         "type": "scattermapbox"
        },
        {
         "hovertemplate": "vehicle_id=979<br>latitude=%{lat}<br>longitude=%{lon}<extra></extra>",
         "lat": [
          35.0893015
         ],
         "legendgroup": "979",
         "lon": [
          -106.7343957
         ],
         "marker": {
          "color": "#ab63fa"
         },
         "mode": "markers",
         "name": "979",
         "showlegend": true,
         "subplot": "mapbox",
         "type": "scattermapbox"
        },
        {
         "hovertemplate": "vehicle_id=635<br>latitude=%{lat}<br>longitude=%{lon}<extra></extra>",
         "lat": [
          35.10441
         ],
         "legendgroup": "635",
         "lon": [
          -106.66171
         ],
         "marker": {
          "color": "#FFA15A"
         },
         "mode": "markers",
         "name": "635",
         "showlegend": true,
         "subplot": "mapbox",
         "type": "scattermapbox"
        },
        {
         "hovertemplate": "vehicle_id=956<br>latitude=%{lat}<br>longitude=%{lon}<extra></extra>",
         "lat": [
          35.0715273
         ],
         "legendgroup": "956",
         "lon": [
          -106.6226693
         ],
         "marker": {
          "color": "#19d3f3"
         },
         "mode": "markers",
         "name": "956",
         "showlegend": true,
         "subplot": "mapbox",
         "type": "scattermapbox"
        },
        {
         "hovertemplate": "vehicle_id=960<br>latitude=%{lat}<br>longitude=%{lon}<extra></extra>",
         "lat": [
          35.1920822
         ],
         "legendgroup": "960",
         "lon": [
          -106.5863712
         ],
         "marker": {
          "color": "#FF6692"
         },
         "mode": "markers",
         "name": "960",
         "showlegend": true,
         "subplot": "mapbox",
         "type": "scattermapbox"
        },
        {
         "hovertemplate": "vehicle_id=623<br>latitude=%{lat}<br>longitude=%{lon}<extra></extra>",
         "lat": [
          35.08925
         ],
         "legendgroup": "623",
         "lon": [
          -106.73312
         ],
         "marker": {
          "color": "#B6E880"
         },
         "mode": "markers",
         "name": "623",
         "showlegend": true,
         "subplot": "mapbox",
         "type": "scattermapbox"
        },
        {
         "hovertemplate": "vehicle_id=1902<br>latitude=%{lat}<br>longitude=%{lon}<extra></extra>",
         "lat": [
          35.0890535
         ],
         "legendgroup": "1902",
         "lon": [
          -106.7331233
         ],
         "marker": {
          "color": "#FF97FF"
         },
         "mode": "markers",
         "name": "1902",
         "showlegend": true,
         "subplot": "mapbox",
         "type": "scattermapbox"
        },
        {
         "hovertemplate": "vehicle_id=1923<br>latitude=%{lat}<br>longitude=%{lon}<extra></extra>",
         "lat": [
          35.0891705
         ],
         "legendgroup": "1923",
         "lon": [
          -106.7337017
         ],
         "marker": {
          "color": "#FECB52"
         },
         "mode": "markers",
         "name": "1923",
         "showlegend": true,
         "subplot": "mapbox",
         "type": "scattermapbox"
        },
        {
         "hovertemplate": "vehicle_id=961<br>latitude=%{lat}<br>longitude=%{lon}<extra></extra>",
         "lat": [
          35.0894158
         ],
         "legendgroup": "961",
         "lon": [
          -106.7337857
         ],
         "marker": {
          "color": "#636efa"
         },
         "mode": "markers",
         "name": "961",
         "showlegend": true,
         "subplot": "mapbox",
         "type": "scattermapbox"
        },
        {
         "hovertemplate": "vehicle_id=606<br>latitude=%{lat}<br>longitude=%{lon}<extra></extra>",
         "lat": [
          35.08961
         ],
         "legendgroup": "606",
         "lon": [
          -106.73321
         ],
         "marker": {
          "color": "#EF553B"
         },
         "mode": "markers",
         "name": "606",
         "showlegend": true,
         "subplot": "mapbox",
         "type": "scattermapbox"
        },
        {
         "hovertemplate": "vehicle_id=610<br>latitude=%{lat}<br>longitude=%{lon}<extra></extra>",
         "lat": [
          35.08935
         ],
         "legendgroup": "610",
         "lon": [
          -106.73419
         ],
         "marker": {
          "color": "#00cc96"
         },
         "mode": "markers",
         "name": "610",
         "showlegend": true,
         "subplot": "mapbox",
         "type": "scattermapbox"
        },
        {
         "hovertemplate": "vehicle_id=1516<br>latitude=%{lat}<br>longitude=%{lon}<extra></extra>",
         "lat": [
          35.08972
         ],
         "legendgroup": "1516",
         "lon": [
          -106.73315
         ],
         "marker": {
          "color": "#ab63fa"
         },
         "mode": "markers",
         "name": "1516",
         "showlegend": true,
         "subplot": "mapbox",
         "type": "scattermapbox"
        },
        {
         "hovertemplate": "vehicle_id=971<br>latitude=%{lat}<br>longitude=%{lon}<extra></extra>",
         "lat": [
          35.0895063
         ],
         "legendgroup": "971",
         "lon": [
          -106.7341805
         ],
         "marker": {
          "color": "#FFA15A"
         },
         "mode": "markers",
         "name": "971",
         "showlegend": true,
         "subplot": "mapbox",
         "type": "scattermapbox"
        },
        {
         "hovertemplate": "vehicle_id=958<br>latitude=%{lat}<br>longitude=%{lon}<extra></extra>",
         "lat": [
          35.0717917
         ],
         "legendgroup": "958",
         "lon": [
          -106.6223393
         ],
         "marker": {
          "color": "#19d3f3"
         },
         "mode": "markers",
         "name": "958",
         "showlegend": true,
         "subplot": "mapbox",
         "type": "scattermapbox"
        },
        {
         "hovertemplate": "vehicle_id=713<br>latitude=%{lat}<br>longitude=%{lon}<extra></extra>",
         "lat": [
          35.0717813
         ],
         "legendgroup": "713",
         "lon": [
          -106.6222878
         ],
         "marker": {
          "color": "#FF6692"
         },
         "mode": "markers",
         "name": "713",
         "showlegend": true,
         "subplot": "mapbox",
         "type": "scattermapbox"
        },
        {
         "hovertemplate": "vehicle_id=751<br>latitude=%{lat}<br>longitude=%{lon}<extra></extra>",
         "lat": [
          35.0716038
         ],
         "legendgroup": "751",
         "lon": [
          -106.622632
         ],
         "marker": {
          "color": "#B6E880"
         },
         "mode": "markers",
         "name": "751",
         "showlegend": true,
         "subplot": "mapbox",
         "type": "scattermapbox"
        },
        {
         "hovertemplate": "vehicle_id=755<br>latitude=%{lat}<br>longitude=%{lon}<extra></extra>",
         "lat": [
          35.071586
         ],
         "legendgroup": "755",
         "lon": [
          -106.622469
         ],
         "marker": {
          "color": "#FF97FF"
         },
         "mode": "markers",
         "name": "755",
         "showlegend": true,
         "subplot": "mapbox",
         "type": "scattermapbox"
        },
        {
         "hovertemplate": "vehicle_id=633<br>latitude=%{lat}<br>longitude=%{lon}<extra></extra>",
         "lat": [
          35.08957
         ],
         "legendgroup": "633",
         "lon": [
          -106.73326
         ],
         "marker": {
          "color": "#FECB52"
         },
         "mode": "markers",
         "name": "633",
         "showlegend": true,
         "subplot": "mapbox",
         "type": "scattermapbox"
        },
        {
         "hovertemplate": "vehicle_id=738<br>latitude=%{lat}<br>longitude=%{lon}<extra></extra>",
         "lat": [
          35.0714728
         ],
         "legendgroup": "738",
         "lon": [
          -106.6239257
         ],
         "marker": {
          "color": "#636efa"
         },
         "mode": "markers",
         "name": "738",
         "showlegend": true,
         "subplot": "mapbox",
         "type": "scattermapbox"
        },
        {
         "hovertemplate": "vehicle_id=707<br>latitude=%{lat}<br>longitude=%{lon}<extra></extra>",
         "lat": [
          35.0718095
         ],
         "legendgroup": "707",
         "lon": [
          -106.6224728
         ],
         "marker": {
          "color": "#EF553B"
         },
         "mode": "markers",
         "name": "707",
         "showlegend": true,
         "subplot": "mapbox",
         "type": "scattermapbox"
        },
        {
         "hovertemplate": "vehicle_id=722<br>latitude=%{lat}<br>longitude=%{lon}<extra></extra>",
         "lat": [
          35.0716623
         ],
         "legendgroup": "722",
         "lon": [
          -106.6228113
         ],
         "marker": {
          "color": "#00cc96"
         },
         "mode": "markers",
         "name": "722",
         "showlegend": true,
         "subplot": "mapbox",
         "type": "scattermapbox"
        },
        {
         "hovertemplate": "vehicle_id=1803<br>latitude=%{lat}<br>longitude=%{lon}<extra></extra>",
         "lat": [
          35.09002
         ],
         "legendgroup": "1803",
         "lon": [
          -106.73346
         ],
         "marker": {
          "color": "#ab63fa"
         },
         "mode": "markers",
         "name": "1803",
         "showlegend": true,
         "subplot": "mapbox",
         "type": "scattermapbox"
        },
        {
         "hovertemplate": "vehicle_id=1804<br>latitude=%{lat}<br>longitude=%{lon}<extra></extra>",
         "lat": [
          35.09015
         ],
         "legendgroup": "1804",
         "lon": [
          -106.7332
         ],
         "marker": {
          "color": "#FFA15A"
         },
         "mode": "markers",
         "name": "1804",
         "showlegend": true,
         "subplot": "mapbox",
         "type": "scattermapbox"
        },
        {
         "hovertemplate": "vehicle_id=1825<br>latitude=%{lat}<br>longitude=%{lon}<extra></extra>",
         "lat": [
          35.17442
         ],
         "legendgroup": "1825",
         "lon": [
          -106.59065
         ],
         "marker": {
          "color": "#19d3f3"
         },
         "mode": "markers",
         "name": "1825",
         "showlegend": true,
         "subplot": "mapbox",
         "type": "scattermapbox"
        },
        {
         "hovertemplate": "vehicle_id=1826<br>latitude=%{lat}<br>longitude=%{lon}<extra></extra>",
         "lat": [
          35.09007
         ],
         "legendgroup": "1826",
         "lon": [
          -106.73347
         ],
         "marker": {
          "color": "#FF6692"
         },
         "mode": "markers",
         "name": "1826",
         "showlegend": true,
         "subplot": "mapbox",
         "type": "scattermapbox"
        },
        {
         "hovertemplate": "vehicle_id=745<br>latitude=%{lat}<br>longitude=%{lon}<extra></extra>",
         "lat": [
          35.0717093
         ],
         "legendgroup": "745",
         "lon": [
          -106.622359
         ],
         "marker": {
          "color": "#B6E880"
         },
         "mode": "markers",
         "name": "745",
         "showlegend": true,
         "subplot": "mapbox",
         "type": "scattermapbox"
        },
        {
         "hovertemplate": "vehicle_id=710<br>latitude=%{lat}<br>longitude=%{lon}<extra></extra>",
         "lat": [
          35.0714337
         ],
         "legendgroup": "710",
         "lon": [
          -106.6235522
         ],
         "marker": {
          "color": "#FF97FF"
         },
         "mode": "markers",
         "name": "710",
         "showlegend": true,
         "subplot": "mapbox",
         "type": "scattermapbox"
        },
        {
         "hovertemplate": "vehicle_id=1838<br>latitude=%{lat}<br>longitude=%{lon}<extra></extra>",
         "lat": [
          35.09013
         ],
         "legendgroup": "1838",
         "lon": [
          -106.73318
         ],
         "marker": {
          "color": "#FECB52"
         },
         "mode": "markers",
         "name": "1838",
         "showlegend": true,
         "subplot": "mapbox",
         "type": "scattermapbox"
        },
        {
         "hovertemplate": "vehicle_id=1533<br>latitude=%{lat}<br>longitude=%{lon}<extra></extra>",
         "lat": [
          35.08999
         ],
         "legendgroup": "1533",
         "lon": [
          -106.73385
         ],
         "marker": {
          "color": "#636efa"
         },
         "mode": "markers",
         "name": "1533",
         "showlegend": true,
         "subplot": "mapbox",
         "type": "scattermapbox"
        },
        {
         "hovertemplate": "vehicle_id=1836<br>latitude=%{lat}<br>longitude=%{lon}<extra></extra>",
         "lat": [
          35.0899
         ],
         "legendgroup": "1836",
         "lon": [
          -106.73298
         ],
         "marker": {
          "color": "#EF553B"
         },
         "mode": "markers",
         "name": "1836",
         "showlegend": true,
         "subplot": "mapbox",
         "type": "scattermapbox"
        },
        {
         "hovertemplate": "vehicle_id=1808<br>latitude=%{lat}<br>longitude=%{lon}<extra></extra>",
         "lat": [
          35.12329
         ],
         "legendgroup": "1808",
         "lon": [
          -106.59716
         ],
         "marker": {
          "color": "#00cc96"
         },
         "mode": "markers",
         "name": "1808",
         "showlegend": true,
         "subplot": "mapbox",
         "type": "scattermapbox"
        },
        {
         "hovertemplate": "vehicle_id=1522<br>latitude=%{lat}<br>longitude=%{lon}<extra></extra>",
         "lat": [
          35.08958
         ],
         "legendgroup": "1522",
         "lon": [
          -106.73355
         ],
         "marker": {
          "color": "#ab63fa"
         },
         "mode": "markers",
         "name": "1522",
         "showlegend": true,
         "subplot": "mapbox",
         "type": "scattermapbox"
        },
        {
         "hovertemplate": "vehicle_id=730<br>latitude=%{lat}<br>longitude=%{lon}<extra></extra>",
         "lat": [
          35.0720012
         ],
         "legendgroup": "730",
         "lon": [
          -106.6232695
         ],
         "marker": {
          "color": "#FFA15A"
         },
         "mode": "markers",
         "name": "730",
         "showlegend": true,
         "subplot": "mapbox",
         "type": "scattermapbox"
        },
        {
         "hovertemplate": "vehicle_id=1839<br>latitude=%{lat}<br>longitude=%{lon}<extra></extra>",
         "lat": [
          35.09059
         ],
         "legendgroup": "1839",
         "lon": [
          -106.73425
         ],
         "marker": {
          "color": "#19d3f3"
         },
         "mode": "markers",
         "name": "1839",
         "showlegend": true,
         "subplot": "mapbox",
         "type": "scattermapbox"
        },
        {
         "hovertemplate": "vehicle_id=726<br>latitude=%{lat}<br>longitude=%{lon}<extra></extra>",
         "lat": [
          35.0717847
         ],
         "legendgroup": "726",
         "lon": [
          -106.6224623
         ],
         "marker": {
          "color": "#FF6692"
         },
         "mode": "markers",
         "name": "726",
         "showlegend": true,
         "subplot": "mapbox",
         "type": "scattermapbox"
        },
        {
         "hovertemplate": "vehicle_id=629<br>latitude=%{lat}<br>longitude=%{lon}<extra></extra>",
         "lat": [
          35.07167
         ],
         "legendgroup": "629",
         "lon": [
          -106.62346
         ],
         "marker": {
          "color": "#B6E880"
         },
         "mode": "markers",
         "name": "629",
         "showlegend": true,
         "subplot": "mapbox",
         "type": "scattermapbox"
        },
        {
         "hovertemplate": "vehicle_id=701<br>latitude=%{lat}<br>longitude=%{lon}<extra></extra>",
         "lat": [
          35.0715543
         ],
         "legendgroup": "701",
         "lon": [
          -106.6223395
         ],
         "marker": {
          "color": "#FF97FF"
         },
         "mode": "markers",
         "name": "701",
         "showlegend": true,
         "subplot": "mapbox",
         "type": "scattermapbox"
        },
        {
         "hovertemplate": "vehicle_id=1502<br>latitude=%{lat}<br>longitude=%{lon}<extra></extra>",
         "lat": [
          35.09012
         ],
         "legendgroup": "1502",
         "lon": [
          -106.73374
         ],
         "marker": {
          "color": "#FECB52"
         },
         "mode": "markers",
         "name": "1502",
         "showlegend": true,
         "subplot": "mapbox",
         "type": "scattermapbox"
        },
        {
         "hovertemplate": "vehicle_id=749<br>latitude=%{lat}<br>longitude=%{lon}<extra></extra>",
         "lat": [
          35.0715335
         ],
         "legendgroup": "749",
         "lon": [
          -106.6224332
         ],
         "marker": {
          "color": "#636efa"
         },
         "mode": "markers",
         "name": "749",
         "showlegend": true,
         "subplot": "mapbox",
         "type": "scattermapbox"
        },
        {
         "hovertemplate": "vehicle_id=1515<br>latitude=%{lat}<br>longitude=%{lon}<extra></extra>",
         "lat": [
          35.07171
         ],
         "legendgroup": "1515",
         "lon": [
          -106.62298
         ],
         "marker": {
          "color": "#EF553B"
         },
         "mode": "markers",
         "name": "1515",
         "showlegend": true,
         "subplot": "mapbox",
         "type": "scattermapbox"
        },
        {
         "hovertemplate": "vehicle_id=711<br>latitude=%{lat}<br>longitude=%{lon}<extra></extra>",
         "lat": [
          35.0714552
         ],
         "legendgroup": "711",
         "lon": [
          -106.6228025
         ],
         "marker": {
          "color": "#00cc96"
         },
         "mode": "markers",
         "name": "711",
         "showlegend": true,
         "subplot": "mapbox",
         "type": "scattermapbox"
        },
        {
         "hovertemplate": "vehicle_id=968<br>latitude=%{lat}<br>longitude=%{lon}<extra></extra>",
         "lat": [
          35.0894115
         ],
         "legendgroup": "968",
         "lon": [
          -106.7341825
         ],
         "marker": {
          "color": "#ab63fa"
         },
         "mode": "markers",
         "name": "968",
         "showlegend": true,
         "subplot": "mapbox",
         "type": "scattermapbox"
        },
        {
         "hovertemplate": "vehicle_id=1815<br>latitude=%{lat}<br>longitude=%{lon}<extra></extra>",
         "lat": [
          35.09014
         ],
         "legendgroup": "1815",
         "lon": [
          -106.73326
         ],
         "marker": {
          "color": "#FFA15A"
         },
         "mode": "markers",
         "name": "1815",
         "showlegend": true,
         "subplot": "mapbox",
         "type": "scattermapbox"
        },
        {
         "hovertemplate": "vehicle_id=1834<br>latitude=%{lat}<br>longitude=%{lon}<extra></extra>",
         "lat": [
          35.09007
         ],
         "legendgroup": "1834",
         "lon": [
          -106.73319
         ],
         "marker": {
          "color": "#19d3f3"
         },
         "mode": "markers",
         "name": "1834",
         "showlegend": true,
         "subplot": "mapbox",
         "type": "scattermapbox"
        },
        {
         "hovertemplate": "vehicle_id=1532<br>latitude=%{lat}<br>longitude=%{lon}<extra></extra>",
         "lat": [
          35.08991
         ],
         "legendgroup": "1532",
         "lon": [
          -106.73384
         ],
         "marker": {
          "color": "#FF6692"
         },
         "mode": "markers",
         "name": "1532",
         "showlegend": true,
         "subplot": "mapbox",
         "type": "scattermapbox"
        },
        {
         "hovertemplate": "vehicle_id=601<br>latitude=%{lat}<br>longitude=%{lon}<extra></extra>",
         "lat": [
          35.08926
         ],
         "legendgroup": "601",
         "lon": [
          -106.73375
         ],
         "marker": {
          "color": "#B6E880"
         },
         "mode": "markers",
         "name": "601",
         "showlegend": true,
         "subplot": "mapbox",
         "type": "scattermapbox"
        },
        {
         "hovertemplate": "vehicle_id=1844<br>latitude=%{lat}<br>longitude=%{lon}<extra></extra>",
         "lat": [
          35.08994
         ],
         "legendgroup": "1844",
         "lon": [
          -106.73345
         ],
         "marker": {
          "color": "#FF97FF"
         },
         "mode": "markers",
         "name": "1844",
         "showlegend": true,
         "subplot": "mapbox",
         "type": "scattermapbox"
        },
        {
         "hovertemplate": "vehicle_id=1513<br>latitude=%{lat}<br>longitude=%{lon}<extra></extra>",
         "lat": [
          35.08996
         ],
         "legendgroup": "1513",
         "lon": [
          -106.73383
         ],
         "marker": {
          "color": "#FECB52"
         },
         "mode": "markers",
         "name": "1513",
         "showlegend": true,
         "subplot": "mapbox",
         "type": "scattermapbox"
        },
        {
         "hovertemplate": "vehicle_id=1540<br>latitude=%{lat}<br>longitude=%{lon}<extra></extra>",
         "lat": [
          35.08984
         ],
         "legendgroup": "1540",
         "lon": [
          -106.73375
         ],
         "marker": {
          "color": "#636efa"
         },
         "mode": "markers",
         "name": "1540",
         "showlegend": true,
         "subplot": "mapbox",
         "type": "scattermapbox"
        },
        {
         "hovertemplate": "vehicle_id=732<br>latitude=%{lat}<br>longitude=%{lon}<extra></extra>",
         "lat": [
          35.0718865
         ],
         "legendgroup": "732",
         "lon": [
          -106.6234925
         ],
         "marker": {
          "color": "#EF553B"
         },
         "mode": "markers",
         "name": "732",
         "showlegend": true,
         "subplot": "mapbox",
         "type": "scattermapbox"
        },
        {
         "hovertemplate": "vehicle_id=952<br>latitude=%{lat}<br>longitude=%{lon}<extra></extra>",
         "lat": [
          35.0718353
         ],
         "legendgroup": "952",
         "lon": [
          -106.6227088
         ],
         "marker": {
          "color": "#00cc96"
         },
         "mode": "markers",
         "name": "952",
         "showlegend": true,
         "subplot": "mapbox",
         "type": "scattermapbox"
        },
        {
         "hovertemplate": "vehicle_id=637<br>latitude=%{lat}<br>longitude=%{lon}<extra></extra>",
         "lat": [
          35.08946
         ],
         "legendgroup": "637",
         "lon": [
          -106.73326
         ],
         "marker": {
          "color": "#ab63fa"
         },
         "mode": "markers",
         "name": "637",
         "showlegend": true,
         "subplot": "mapbox",
         "type": "scattermapbox"
        },
        {
         "hovertemplate": "vehicle_id=752<br>latitude=%{lat}<br>longitude=%{lon}<extra></extra>",
         "lat": [
          35.0725095
         ],
         "legendgroup": "752",
         "lon": [
          -106.6234885
         ],
         "marker": {
          "color": "#FFA15A"
         },
         "mode": "markers",
         "name": "752",
         "showlegend": true,
         "subplot": "mapbox",
         "type": "scattermapbox"
        },
        {
         "hovertemplate": "vehicle_id=1503<br>latitude=%{lat}<br>longitude=%{lon}<extra></extra>",
         "lat": [
          35.09052
         ],
         "legendgroup": "1503",
         "lon": [
          -106.73461
         ],
         "marker": {
          "color": "#19d3f3"
         },
         "mode": "markers",
         "name": "1503",
         "showlegend": true,
         "subplot": "mapbox",
         "type": "scattermapbox"
        },
        {
         "hovertemplate": "vehicle_id=1827<br>latitude=%{lat}<br>longitude=%{lon}<extra></extra>",
         "lat": [
          35.08062
         ],
         "legendgroup": "1827",
         "lon": [
          -106.64504
         ],
         "marker": {
          "color": "#FF6692"
         },
         "mode": "markers",
         "name": "1827",
         "showlegend": true,
         "subplot": "mapbox",
         "type": "scattermapbox"
        },
        {
         "hovertemplate": "vehicle_id=1831<br>latitude=%{lat}<br>longitude=%{lon}<extra></extra>",
         "lat": [
          35.10184
         ],
         "legendgroup": "1831",
         "lon": [
          -106.7123
         ],
         "marker": {
          "color": "#B6E880"
         },
         "mode": "markers",
         "name": "1831",
         "showlegend": true,
         "subplot": "mapbox",
         "type": "scattermapbox"
        },
        {
         "hovertemplate": "vehicle_id=741<br>latitude=%{lat}<br>longitude=%{lon}<extra></extra>",
         "lat": [
          35.0717243
         ],
         "legendgroup": "741",
         "lon": [
          -106.622441
         ],
         "marker": {
          "color": "#FF97FF"
         },
         "mode": "markers",
         "name": "741",
         "showlegend": true,
         "subplot": "mapbox",
         "type": "scattermapbox"
        },
        {
         "hovertemplate": "vehicle_id=734<br>latitude=%{lat}<br>longitude=%{lon}<extra></extra>",
         "lat": [
          35.071704
         ],
         "legendgroup": "734",
         "lon": [
          -106.6227448
         ],
         "marker": {
          "color": "#FECB52"
         },
         "mode": "markers",
         "name": "734",
         "showlegend": true,
         "subplot": "mapbox",
         "type": "scattermapbox"
        },
        {
         "hovertemplate": "vehicle_id=619<br>latitude=%{lat}<br>longitude=%{lon}<extra></extra>",
         "lat": [
          35.08924
         ],
         "legendgroup": "619",
         "lon": [
          -106.7342
         ],
         "marker": {
          "color": "#636efa"
         },
         "mode": "markers",
         "name": "619",
         "showlegend": true,
         "subplot": "mapbox",
         "type": "scattermapbox"
        },
        {
         "hovertemplate": "vehicle_id=4103<br>latitude=%{lat}<br>longitude=%{lon}<extra></extra>",
         "lat": [
          35.089594
         ],
         "legendgroup": "4103",
         "lon": [
          -106.7341465
         ],
         "marker": {
          "color": "#EF553B"
         },
         "mode": "markers",
         "name": "4103",
         "showlegend": true,
         "subplot": "mapbox",
         "type": "scattermapbox"
        },
        {
         "hovertemplate": "vehicle_id=1802<br>latitude=%{lat}<br>longitude=%{lon}<extra></extra>",
         "lat": [
          35.09055
         ],
         "legendgroup": "1802",
         "lon": [
          -106.73411
         ],
         "marker": {
          "color": "#00cc96"
         },
         "mode": "markers",
         "name": "1802",
         "showlegend": true,
         "subplot": "mapbox",
         "type": "scattermapbox"
        },
        {
         "hovertemplate": "vehicle_id=1514<br>latitude=%{lat}<br>longitude=%{lon}<extra></extra>",
         "lat": [
          35.08948
         ],
         "legendgroup": "1514",
         "lon": [
          -106.7346
         ],
         "marker": {
          "color": "#ab63fa"
         },
         "mode": "markers",
         "name": "1514",
         "showlegend": true,
         "subplot": "mapbox",
         "type": "scattermapbox"
        },
        {
         "hovertemplate": "vehicle_id=632<br>latitude=%{lat}<br>longitude=%{lon}<extra></extra>",
         "lat": [
          35.0717
         ],
         "legendgroup": "632",
         "lon": [
          -106.62358
         ],
         "marker": {
          "color": "#FFA15A"
         },
         "mode": "markers",
         "name": "632",
         "showlegend": true,
         "subplot": "mapbox",
         "type": "scattermapbox"
        },
        {
         "hovertemplate": "vehicle_id=724<br>latitude=%{lat}<br>longitude=%{lon}<extra></extra>",
         "lat": [
          35.0715125
         ],
         "legendgroup": "724",
         "lon": [
          -106.622812
         ],
         "marker": {
          "color": "#19d3f3"
         },
         "mode": "markers",
         "name": "724",
         "showlegend": true,
         "subplot": "mapbox",
         "type": "scattermapbox"
        },
        {
         "hovertemplate": "vehicle_id=1925<br>latitude=%{lat}<br>longitude=%{lon}<extra></extra>",
         "lat": [
          35.0891283
         ],
         "legendgroup": "1925",
         "lon": [
          -106.7339265
         ],
         "marker": {
          "color": "#FF6692"
         },
         "mode": "markers",
         "name": "1925",
         "showlegend": true,
         "subplot": "mapbox",
         "type": "scattermapbox"
        },
        {
         "hovertemplate": "vehicle_id=1924<br>latitude=%{lat}<br>longitude=%{lon}<extra></extra>",
         "lat": [
          35.1034653
         ],
         "legendgroup": "1924",
         "lon": [
          -106.6421962
         ],
         "marker": {
          "color": "#B6E880"
         },
         "mode": "markers",
         "name": "1924",
         "showlegend": true,
         "subplot": "mapbox",
         "type": "scattermapbox"
        },
        {
         "hovertemplate": "vehicle_id=1906<br>latitude=%{lat}<br>longitude=%{lon}<extra></extra>",
         "lat": [
          35.0892782
         ],
         "legendgroup": "1906",
         "lon": [
          -106.7350612
         ],
         "marker": {
          "color": "#FF97FF"
         },
         "mode": "markers",
         "name": "1906",
         "showlegend": true,
         "subplot": "mapbox",
         "type": "scattermapbox"
        },
        {
         "hovertemplate": "vehicle_id=1920<br>latitude=%{lat}<br>longitude=%{lon}<extra></extra>",
         "lat": [
          35.0893375
         ],
         "legendgroup": "1920",
         "lon": [
          -106.7344373
         ],
         "marker": {
          "color": "#FECB52"
         },
         "mode": "markers",
         "name": "1920",
         "showlegend": true,
         "subplot": "mapbox",
         "type": "scattermapbox"
        },
        {
         "hovertemplate": "vehicle_id=719<br>latitude=%{lat}<br>longitude=%{lon}<extra></extra>",
         "lat": [
          35.0717238
         ],
         "legendgroup": "719",
         "lon": [
          -106.6223262
         ],
         "marker": {
          "color": "#636efa"
         },
         "mode": "markers",
         "name": "719",
         "showlegend": true,
         "subplot": "mapbox",
         "type": "scattermapbox"
        },
        {
         "hovertemplate": "vehicle_id=614<br>latitude=%{lat}<br>longitude=%{lon}<extra></extra>",
         "lat": [
          35.08908
         ],
         "legendgroup": "614",
         "lon": [
          -106.73456
         ],
         "marker": {
          "color": "#EF553B"
         },
         "mode": "markers",
         "name": "614",
         "showlegend": true,
         "subplot": "mapbox",
         "type": "scattermapbox"
        }
       ],
       "layout": {
        "legend": {
         "title": {
          "text": "vehicle_id"
         },
         "tracegroupgap": 0
        },
        "mapbox": {
         "accesstoken": "pk.eyJ1IjoiYXVzdGluLXNtaXRoIiwiYSI6ImNsNWZlb3d6ODB6OG8zZG1wcWh2dGhlaDMifQ.hL-m5xPRheQCVQRgMbfBkw",
         "center": {
          "lat": 35.08486777207207,
          "lon": -106.68052517387387
         },
         "domain": {
          "x": [
           0,
           1
          ],
          "y": [
           0,
           1
          ]
         },
         "zoom": 10
        },
        "margin": {
         "t": 60
        },
        "template": {
         "data": {
          "bar": [
           {
            "error_x": {
             "color": "#2a3f5f"
            },
            "error_y": {
             "color": "#2a3f5f"
            },
            "marker": {
             "line": {
              "color": "#E5ECF6",
              "width": 0.5
             },
             "pattern": {
              "fillmode": "overlay",
              "size": 10,
              "solidity": 0.2
             }
            },
            "type": "bar"
           }
          ],
          "barpolar": [
           {
            "marker": {
             "line": {
              "color": "#E5ECF6",
              "width": 0.5
             },
             "pattern": {
              "fillmode": "overlay",
              "size": 10,
              "solidity": 0.2
             }
            },
            "type": "barpolar"
           }
          ],
          "carpet": [
           {
            "aaxis": {
             "endlinecolor": "#2a3f5f",
             "gridcolor": "white",
             "linecolor": "white",
             "minorgridcolor": "white",
             "startlinecolor": "#2a3f5f"
            },
            "baxis": {
             "endlinecolor": "#2a3f5f",
             "gridcolor": "white",
             "linecolor": "white",
             "minorgridcolor": "white",
             "startlinecolor": "#2a3f5f"
            },
            "type": "carpet"
           }
          ],
          "choropleth": [
           {
            "colorbar": {
             "outlinewidth": 0,
             "ticks": ""
            },
            "type": "choropleth"
           }
          ],
          "contour": [
           {
            "colorbar": {
             "outlinewidth": 0,
             "ticks": ""
            },
            "colorscale": [
             [
              0,
              "#0d0887"
             ],
             [
              0.1111111111111111,
              "#46039f"
             ],
             [
              0.2222222222222222,
              "#7201a8"
             ],
             [
              0.3333333333333333,
              "#9c179e"
             ],
             [
              0.4444444444444444,
              "#bd3786"
             ],
             [
              0.5555555555555556,
              "#d8576b"
             ],
             [
              0.6666666666666666,
              "#ed7953"
             ],
             [
              0.7777777777777778,
              "#fb9f3a"
             ],
             [
              0.8888888888888888,
              "#fdca26"
             ],
             [
              1,
              "#f0f921"
             ]
            ],
            "type": "contour"
           }
          ],
          "contourcarpet": [
           {
            "colorbar": {
             "outlinewidth": 0,
             "ticks": ""
            },
            "type": "contourcarpet"
           }
          ],
          "heatmap": [
           {
            "colorbar": {
             "outlinewidth": 0,
             "ticks": ""
            },
            "colorscale": [
             [
              0,
              "#0d0887"
             ],
             [
              0.1111111111111111,
              "#46039f"
             ],
             [
              0.2222222222222222,
              "#7201a8"
             ],
             [
              0.3333333333333333,
              "#9c179e"
             ],
             [
              0.4444444444444444,
              "#bd3786"
             ],
             [
              0.5555555555555556,
              "#d8576b"
             ],
             [
              0.6666666666666666,
              "#ed7953"
             ],
             [
              0.7777777777777778,
              "#fb9f3a"
             ],
             [
              0.8888888888888888,
              "#fdca26"
             ],
             [
              1,
              "#f0f921"
             ]
            ],
            "type": "heatmap"
           }
          ],
          "heatmapgl": [
           {
            "colorbar": {
             "outlinewidth": 0,
             "ticks": ""
            },
            "colorscale": [
             [
              0,
              "#0d0887"
             ],
             [
              0.1111111111111111,
              "#46039f"
             ],
             [
              0.2222222222222222,
              "#7201a8"
             ],
             [
              0.3333333333333333,
              "#9c179e"
             ],
             [
              0.4444444444444444,
              "#bd3786"
             ],
             [
              0.5555555555555556,
              "#d8576b"
             ],
             [
              0.6666666666666666,
              "#ed7953"
             ],
             [
              0.7777777777777778,
              "#fb9f3a"
             ],
             [
              0.8888888888888888,
              "#fdca26"
             ],
             [
              1,
              "#f0f921"
             ]
            ],
            "type": "heatmapgl"
           }
          ],
          "histogram": [
           {
            "marker": {
             "pattern": {
              "fillmode": "overlay",
              "size": 10,
              "solidity": 0.2
             }
            },
            "type": "histogram"
           }
          ],
          "histogram2d": [
           {
            "colorbar": {
             "outlinewidth": 0,
             "ticks": ""
            },
            "colorscale": [
             [
              0,
              "#0d0887"
             ],
             [
              0.1111111111111111,
              "#46039f"
             ],
             [
              0.2222222222222222,
              "#7201a8"
             ],
             [
              0.3333333333333333,
              "#9c179e"
             ],
             [
              0.4444444444444444,
              "#bd3786"
             ],
             [
              0.5555555555555556,
              "#d8576b"
             ],
             [
              0.6666666666666666,
              "#ed7953"
             ],
             [
              0.7777777777777778,
              "#fb9f3a"
             ],
             [
              0.8888888888888888,
              "#fdca26"
             ],
             [
              1,
              "#f0f921"
             ]
            ],
            "type": "histogram2d"
           }
          ],
          "histogram2dcontour": [
           {
            "colorbar": {
             "outlinewidth": 0,
             "ticks": ""
            },
            "colorscale": [
             [
              0,
              "#0d0887"
             ],
             [
              0.1111111111111111,
              "#46039f"
             ],
             [
              0.2222222222222222,
              "#7201a8"
             ],
             [
              0.3333333333333333,
              "#9c179e"
             ],
             [
              0.4444444444444444,
              "#bd3786"
             ],
             [
              0.5555555555555556,
              "#d8576b"
             ],
             [
              0.6666666666666666,
              "#ed7953"
             ],
             [
              0.7777777777777778,
              "#fb9f3a"
             ],
             [
              0.8888888888888888,
              "#fdca26"
             ],
             [
              1,
              "#f0f921"
             ]
            ],
            "type": "histogram2dcontour"
           }
          ],
          "mesh3d": [
           {
            "colorbar": {
             "outlinewidth": 0,
             "ticks": ""
            },
            "type": "mesh3d"
           }
          ],
          "parcoords": [
           {
            "line": {
             "colorbar": {
              "outlinewidth": 0,
              "ticks": ""
             }
            },
            "type": "parcoords"
           }
          ],
          "pie": [
           {
            "automargin": true,
            "type": "pie"
           }
          ],
          "scatter": [
           {
            "fillpattern": {
             "fillmode": "overlay",
             "size": 10,
             "solidity": 0.2
            },
            "type": "scatter"
           }
          ],
          "scatter3d": [
           {
            "line": {
             "colorbar": {
              "outlinewidth": 0,
              "ticks": ""
             }
            },
            "marker": {
             "colorbar": {
              "outlinewidth": 0,
              "ticks": ""
             }
            },
            "type": "scatter3d"
           }
          ],
          "scattercarpet": [
           {
            "marker": {
             "colorbar": {
              "outlinewidth": 0,
              "ticks": ""
             }
            },
            "type": "scattercarpet"
           }
          ],
          "scattergeo": [
           {
            "marker": {
             "colorbar": {
              "outlinewidth": 0,
              "ticks": ""
             }
            },
            "type": "scattergeo"
           }
          ],
          "scattergl": [
           {
            "marker": {
             "colorbar": {
              "outlinewidth": 0,
              "ticks": ""
             }
            },
            "type": "scattergl"
           }
          ],
          "scattermapbox": [
           {
            "marker": {
             "colorbar": {
              "outlinewidth": 0,
              "ticks": ""
             }
            },
            "type": "scattermapbox"
           }
          ],
          "scatterpolar": [
           {
            "marker": {
             "colorbar": {
              "outlinewidth": 0,
              "ticks": ""
             }
            },
            "type": "scatterpolar"
           }
          ],
          "scatterpolargl": [
           {
            "marker": {
             "colorbar": {
              "outlinewidth": 0,
              "ticks": ""
             }
            },
            "type": "scatterpolargl"
           }
          ],
          "scatterternary": [
           {
            "marker": {
             "colorbar": {
              "outlinewidth": 0,
              "ticks": ""
             }
            },
            "type": "scatterternary"
           }
          ],
          "surface": [
           {
            "colorbar": {
             "outlinewidth": 0,
             "ticks": ""
            },
            "colorscale": [
             [
              0,
              "#0d0887"
             ],
             [
              0.1111111111111111,
              "#46039f"
             ],
             [
              0.2222222222222222,
              "#7201a8"
             ],
             [
              0.3333333333333333,
              "#9c179e"
             ],
             [
              0.4444444444444444,
              "#bd3786"
             ],
             [
              0.5555555555555556,
              "#d8576b"
             ],
             [
              0.6666666666666666,
              "#ed7953"
             ],
             [
              0.7777777777777778,
              "#fb9f3a"
             ],
             [
              0.8888888888888888,
              "#fdca26"
             ],
             [
              1,
              "#f0f921"
             ]
            ],
            "type": "surface"
           }
          ],
          "table": [
           {
            "cells": {
             "fill": {
              "color": "#EBF0F8"
             },
             "line": {
              "color": "white"
             }
            },
            "header": {
             "fill": {
              "color": "#C8D4E3"
             },
             "line": {
              "color": "white"
             }
            },
            "type": "table"
           }
          ]
         },
         "layout": {
          "annotationdefaults": {
           "arrowcolor": "#2a3f5f",
           "arrowhead": 0,
           "arrowwidth": 1
          },
          "autotypenumbers": "strict",
          "coloraxis": {
           "colorbar": {
            "outlinewidth": 0,
            "ticks": ""
           }
          },
          "colorscale": {
           "diverging": [
            [
             0,
             "#8e0152"
            ],
            [
             0.1,
             "#c51b7d"
            ],
            [
             0.2,
             "#de77ae"
            ],
            [
             0.3,
             "#f1b6da"
            ],
            [
             0.4,
             "#fde0ef"
            ],
            [
             0.5,
             "#f7f7f7"
            ],
            [
             0.6,
             "#e6f5d0"
            ],
            [
             0.7,
             "#b8e186"
            ],
            [
             0.8,
             "#7fbc41"
            ],
            [
             0.9,
             "#4d9221"
            ],
            [
             1,
             "#276419"
            ]
           ],
           "sequential": [
            [
             0,
             "#0d0887"
            ],
            [
             0.1111111111111111,
             "#46039f"
            ],
            [
             0.2222222222222222,
             "#7201a8"
            ],
            [
             0.3333333333333333,
             "#9c179e"
            ],
            [
             0.4444444444444444,
             "#bd3786"
            ],
            [
             0.5555555555555556,
             "#d8576b"
            ],
            [
             0.6666666666666666,
             "#ed7953"
            ],
            [
             0.7777777777777778,
             "#fb9f3a"
            ],
            [
             0.8888888888888888,
             "#fdca26"
            ],
            [
             1,
             "#f0f921"
            ]
           ],
           "sequentialminus": [
            [
             0,
             "#0d0887"
            ],
            [
             0.1111111111111111,
             "#46039f"
            ],
            [
             0.2222222222222222,
             "#7201a8"
            ],
            [
             0.3333333333333333,
             "#9c179e"
            ],
            [
             0.4444444444444444,
             "#bd3786"
            ],
            [
             0.5555555555555556,
             "#d8576b"
            ],
            [
             0.6666666666666666,
             "#ed7953"
            ],
            [
             0.7777777777777778,
             "#fb9f3a"
            ],
            [
             0.8888888888888888,
             "#fdca26"
            ],
            [
             1,
             "#f0f921"
            ]
           ]
          },
          "colorway": [
           "#636efa",
           "#EF553B",
           "#00cc96",
           "#ab63fa",
           "#FFA15A",
           "#19d3f3",
           "#FF6692",
           "#B6E880",
           "#FF97FF",
           "#FECB52"
          ],
          "font": {
           "color": "#2a3f5f"
          },
          "geo": {
           "bgcolor": "white",
           "lakecolor": "white",
           "landcolor": "#E5ECF6",
           "showlakes": true,
           "showland": true,
           "subunitcolor": "white"
          },
          "hoverlabel": {
           "align": "left"
          },
          "hovermode": "closest",
          "mapbox": {
           "style": "light"
          },
          "paper_bgcolor": "white",
          "plot_bgcolor": "#E5ECF6",
          "polar": {
           "angularaxis": {
            "gridcolor": "white",
            "linecolor": "white",
            "ticks": ""
           },
           "bgcolor": "#E5ECF6",
           "radialaxis": {
            "gridcolor": "white",
            "linecolor": "white",
            "ticks": ""
           }
          },
          "scene": {
           "xaxis": {
            "backgroundcolor": "#E5ECF6",
            "gridcolor": "white",
            "gridwidth": 2,
            "linecolor": "white",
            "showbackground": true,
            "ticks": "",
            "zerolinecolor": "white"
           },
           "yaxis": {
            "backgroundcolor": "#E5ECF6",
            "gridcolor": "white",
            "gridwidth": 2,
            "linecolor": "white",
            "showbackground": true,
            "ticks": "",
            "zerolinecolor": "white"
           },
           "zaxis": {
            "backgroundcolor": "#E5ECF6",
            "gridcolor": "white",
            "gridwidth": 2,
            "linecolor": "white",
            "showbackground": true,
            "ticks": "",
            "zerolinecolor": "white"
           }
          },
          "shapedefaults": {
           "line": {
            "color": "#2a3f5f"
           }
          },
          "ternary": {
           "aaxis": {
            "gridcolor": "white",
            "linecolor": "white",
            "ticks": ""
           },
           "baxis": {
            "gridcolor": "white",
            "linecolor": "white",
            "ticks": ""
           },
           "bgcolor": "#E5ECF6",
           "caxis": {
            "gridcolor": "white",
            "linecolor": "white",
            "ticks": ""
           }
          },
          "title": {
           "x": 0.05
          },
          "xaxis": {
           "automargin": true,
           "gridcolor": "white",
           "linecolor": "white",
           "ticks": "",
           "title": {
            "standoff": 15
           },
           "zerolinecolor": "white",
           "zerolinewidth": 2
          },
          "yaxis": {
           "automargin": true,
           "gridcolor": "white",
           "linecolor": "white",
           "ticks": "",
           "title": {
            "standoff": 15
           },
           "zerolinecolor": "white",
           "zerolinewidth": 2
          }
         }
        }
       }
      }
     },
     "metadata": {},
     "output_type": "display_data"
    }
   ],
   "source": [
    "px.set_mapbox_access_token(open(\".mapbox_token\").read())\n",
    "fig = px.scatter_mapbox(df, lat=\"latitude\", lon=\"longitude\",\n",
    "                        color=\"vehicle_id\",\n",
    "                        color_continuous_scale=px.colors.cyclical.IceFire, size_max=15, zoom=10)\n",
    "fig.show()\n"
   ]
  }
 ],
 "metadata": {
  "kernelspec": {
   "display_name": "Python 3.10.5 64-bit",
   "language": "python",
   "name": "python3"
  },
  "language_info": {
   "codemirror_mode": {
    "name": "ipython",
    "version": 3
   },
   "file_extension": ".py",
   "mimetype": "text/x-python",
   "name": "python",
   "nbconvert_exporter": "python",
   "pygments_lexer": "ipython3",
   "version": "3.10.5"
  },
  "orig_nbformat": 4,
  "vscode": {
   "interpreter": {
    "hash": "759d0d21976bd259edbb251dc21a2558bba30222ea54aab68b2315a5050e134b"
   }
  }
 },
 "nbformat": 4,
 "nbformat_minor": 2
}
