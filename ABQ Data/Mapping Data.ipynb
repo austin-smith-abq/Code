{
 "cells": [
  {
   "cell_type": "code",
   "execution_count": 9,
   "metadata": {},
   "outputs": [],
   "source": [
    "import requests\n",
    "\n",
    "\n",
    "url = 'http://data.cabq.gov/publicsafety/policebeats/APD_BCSO_Beats.kmz'\n",
    "r = requests.get(url, allow_redirects=True)\n",
    "\n",
    "kmz = open('Geo Files/police_beats.kmz', 'wb').write(r.content)"
   ]
  },
  {
   "cell_type": "code",
   "execution_count": 39,
   "metadata": {},
   "outputs": [],
   "source": [
    "from zipfile import ZipFile\n",
    "kmz = ZipFile('Geo Files/police_beats.kmz', 'r')\n",
    "kml = kmz.open('doc.kml', 'r')"
   ]
  },
  {
   "cell_type": "code",
   "execution_count": 40,
   "metadata": {},
   "outputs": [],
   "source": [
    "import kml2geojson\n",
    "police_beats = kml2geojson.main.convert(kml, '')"
   ]
  },
  {
   "cell_type": "code",
   "execution_count": 53,
   "metadata": {},
   "outputs": [
    {
     "data": {
      "text/plain": [
       "{'type': 'Feature',\n",
       " 'properties': {'description': '<html xmlns:fo=\"http://www.w3.org/1999/XSL/Format\" xmlns:msxsl=\"urn:schemas-microsoft-com:xslt\">\\n\\n<head>\\n\\n<META http-equiv=\"Content-Type\" content=\"text/html\">\\n\\n<meta http-equiv=\"content-type\" content=\"text/html; charset=UTF-8\">\\n\\n</head>\\n\\n<body style=\"margin:0px 0px 0px 0px;overflow:auto;background:#FFFFFF;\">\\n\\n<table style=\"font-family:Arial,Verdana,Times;font-size:12px;text-align:left;width:100%;border-collapse:collapse;padding:3px 3px 3px 3px\">\\n\\n<tr style=\"text-align:center;font-weight:bold;background:#9CBCE2\">\\n\\n<td> </td>\\n\\n</tr>\\n\\n<tr>\\n\\n<td>\\n\\n<table style=\"font-family:Arial,Verdana,Times;font-size:12px;text-align:left;width:100%;border-spacing:0px; padding:3px 3px 3px 3px\">\\n\\n<tr>\\n\\n<td>Beat</td>\\n\\n<td></td>\\n\\n</tr>\\n\\n<tr bgcolor=\"#D4E4F3\">\\n\\n<td>Sector</td>\\n\\n<td>0</td>\\n\\n</tr>\\n\\n<tr>\\n\\n<td>Area Command</td>\\n\\n<td></td>\\n\\n</tr>\\n\\n<tr bgcolor=\"#D4E4F3\">\\n\\n<td>Service</td>\\n\\n<td>P</td>\\n\\n</tr>\\n\\n<tr>\\n\\n<td>Agency</td>\\n\\n<td>APD</td>\\n\\n</tr>\\n\\n<tr bgcolor=\"#D4E4F3\">\\n\\n<td>Group</td>\\n\\n<td>NW</td>\\n\\n</tr>\\n\\n<tr>\\n\\n<td>Adjacents</td>\\n\\n<td></td>\\n\\n</tr>\\n\\n</table>\\n\\n</td>\\n\\n</tr>\\n\\n</table>\\n\\n</body>\\n\\n</html>',\n",
       "  'styleUrl': '#PolyStyle00'},\n",
       " 'geometry': {'type': 'Polygon',\n",
       "  'coordinates': [[[-106.6411519895349, 35.206755608034, 0.0],\n",
       "    [-106.6411519902072, 35.20664260229184, 0.0],\n",
       "    [-106.6410389840036, 35.20664260210029, 0.0],\n",
       "    [-106.6410389845696, 35.20675560783896, 0.0],\n",
       "    [-106.6411519895349, 35.206755608034, 0.0]]]},\n",
       " 'id': 'ID_00000'}"
      ]
     },
     "execution_count": 53,
     "metadata": {},
     "output_type": "execute_result"
    }
   ],
   "source": [
    "police_beats[0]['features'][0]"
   ]
  },
  {
   "cell_type": "code",
   "execution_count": 47,
   "metadata": {},
   "outputs": [],
   "source": [
    "#import folium\n",
    "#m = folium.Map(location=[43.062776, -75.420884], tiles=\"cartodbpositron\", zoom_start=7)\n",
    "#folium.GeoJson(data=police_beats).add_to(m)"
   ]
  },
  {
   "cell_type": "code",
   "execution_count": null,
   "metadata": {},
   "outputs": [],
   "source": []
  }
 ],
 "metadata": {
  "kernelspec": {
   "display_name": "Python 3.10.5 64-bit",
   "language": "python",
   "name": "python3"
  },
  "language_info": {
   "codemirror_mode": {
    "name": "ipython",
    "version": 3
   },
   "file_extension": ".py",
   "mimetype": "text/x-python",
   "name": "python",
   "nbconvert_exporter": "python",
   "pygments_lexer": "ipython3",
   "version": "3.10.5"
  },
  "orig_nbformat": 4,
  "vscode": {
   "interpreter": {
    "hash": "759d0d21976bd259edbb251dc21a2558bba30222ea54aab68b2315a5050e134b"
   }
  }
 },
 "nbformat": 4,
 "nbformat_minor": 2
}
