{
 "cells": [
  {
   "cell_type": "code",
   "execution_count": null,
   "metadata": {},
   "outputs": [],
   "source": [
    "import requests\n",
    "import json\n",
    "import pandas as pd\n",
    "\n",
    "url = \"https://coagisweb.cabq.gov/arcgis/rest/services/public/SolidWaste/MapServer/1/query\"\n",
    "\n",
    "querystring = {\"where\":\"1=1\",\"text\":\"\",\"objectIds\":\"\",\"time\":\"\",\"geometry\":\"\",\"geometryType\":\"esriGeometryEnvelope\",\"inSR\":\"\",\"spatialRel\":\"esriSpatialRelIntersects\",\"relationParam\":\"\",\"outFields\":\"*\",\"returnGeometry\":\"false\",\"maxAllowableOffset\":\"\",\"geometryPrecision\":\"\",\"outSR\":\"\",\"returnIdsOnly\":\"false\",\"returnCountOnly\":\"false\",\"orderByFields\":\"\",\"groupByFieldsForStatistics\":\"\",\"outStatistics\":\"\",\"returnZ\":\"false\",\"returnM\":\"false\",\"gdbVersion\":\"\",\"returnDistinctValues\":\"false\",\"f\":\"pjson\"}\n",
    "\n",
    "headers = {'user-agent': 'vscode-restclient'}\n",
    "\n",
    "response = requests.request(\"GET\", url, headers=headers, params=querystring)\n",
    "\n",
    "recycling_list = response.json()['features']\n",
    "recyclings = pd.json_normalize(recycling_list)\n",
    "recyclings.columns = recyclings.columns.str.lstrip(\"attributes.\")\n"
   ]
  }
 ],
 "metadata": {
  "kernelspec": {
   "display_name": "Python 3.10.5 64-bit",
   "language": "python",
   "name": "python3"
  },
  "language_info": {
   "name": "python",
   "version": "3.10.5"
  },
  "orig_nbformat": 4,
  "vscode": {
   "interpreter": {
    "hash": "759d0d21976bd259edbb251dc21a2558bba30222ea54aab68b2315a5050e134b"
   }
  }
 },
 "nbformat": 4,
 "nbformat_minor": 2
}
