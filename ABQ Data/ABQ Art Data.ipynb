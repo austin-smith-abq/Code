{
 "cells": [
  {
   "cell_type": "code",
   "execution_count": 1,
   "metadata": {},
   "outputs": [],
   "source": [
    "import requests\n",
    "import pandas as pd\n",
    "import json\n",
    "\n",
    "url = \"https://coagisweb.cabq.gov/arcgis/rest/services/public/PublicArt/MapServer/0/query\"\n",
    "\n",
    "querystring = {\"where\":\"1=1\",\"text\":\"\",\"objectIds\":\"\",\"time\":\"\",\"geometry\":\"\",\"geometryType\":\"esriGeometryEnvelope\",\"inSR\":\"\",\"spatialRel\":\"esriSpatialRelIntersects\",\"relationParam\":\"\",\"outFields\":\"*\",\"returnGeometry\":\"true\",\"maxAllowableOffset\":\"\",\"geometryPrecision\":\"\",\"outSR\":\"\",\"returnIdsOnly\":\"false\",\"returnCountOnly\":\"false\",\"orderByFields\":\"\",\"groupByFieldsForStatistics\":\"\",\"outStatistics\":\"\",\"returnZ\":\"false\",\"returnM\":\"false\",\"gdbVersion\":\"\",\"returnDistinctValues\":\"false\",\"f\":\"pjson\"}\n",
    "\n",
    "headers = {'user-agent': 'vscode-restclient'}\n",
    "\n",
    "response = requests.request(\"GET\", url, headers=headers, params=querystring)\n",
    "\n",
    "art_list = response.json()['features']\n",
    "arts = pd.json_normalize(art_list)\n",
    "arts.columns = arts.columns.str.lstrip(\"attributes.\")\n"
   ]
  },
  {
   "cell_type": "code",
   "execution_count": 3,
   "metadata": {},
   "outputs": [],
   "source": [
    "from janitor import clean_names"
   ]
  },
  {
   "cell_type": "code",
   "execution_count": 4,
   "metadata": {},
   "outputs": [],
   "source": [
    "arts = clean_names(arts)"
   ]
  },
  {
   "cell_type": "code",
   "execution_count": 6,
   "metadata": {},
   "outputs": [
    {
     "data": {
      "text/plain": [
       "844"
      ]
     },
     "execution_count": 6,
     "metadata": {},
     "output_type": "execute_result"
    }
   ],
   "source": [
    "from sqlalchemy import create_engine\n",
    "import pandas as pd\n",
    "postgres = open('.postgres_token','r').read()\n",
    "engine = create_engine(postgres)\n",
    "arts.to_sql('abq_art', engine, if_exists='replace', index = False)"
   ]
  },
  {
   "cell_type": "code",
   "execution_count": 1,
   "metadata": {},
   "outputs": [
    {
     "name": "stderr",
     "output_type": "stream",
     "text": [
      "schema_name specified creating a URL with schema is not supported. Set a default schema on the user connecting to your database.\n",
      "c:\\Users\\austi\\AppData\\Local\\Programs\\Python\\Python310\\lib\\site-packages\\great_expectations\\datasource\\data_connector\\runtime_data_connector.py:133: DeprecationWarning: Specifying batch_identifiers as part of the RuntimeDataConnector config is deprecated as of v0.15.1 and will be removed by v0.18. Please configure batch_identifiers as part of Assets instead.\n",
      "  warnings.warn(\n",
      "Calculating Metrics: 100%|██████████| 130/130 [00:01<00:00, 78.36it/s] \n"
     ]
    }
   ],
   "source": [
    "import great_expectations as ge\n",
    "context = ge.get_context()\n",
    "context.run_checkpoint('getting_started_checkpoint')\n",
    "context.open_data_docs()"
   ]
  }
 ],
 "metadata": {
  "kernelspec": {
   "display_name": "Python 3.10.5 64-bit",
   "language": "python",
   "name": "python3"
  },
  "language_info": {
   "codemirror_mode": {
    "name": "ipython",
    "version": 3
   },
   "file_extension": ".py",
   "mimetype": "text/x-python",
   "name": "python",
   "nbconvert_exporter": "python",
   "pygments_lexer": "ipython3",
   "version": "3.10.5"
  },
  "orig_nbformat": 4,
  "vscode": {
   "interpreter": {
    "hash": "759d0d21976bd259edbb251dc21a2558bba30222ea54aab68b2315a5050e134b"
   }
  }
 },
 "nbformat": 4,
 "nbformat_minor": 2
}
