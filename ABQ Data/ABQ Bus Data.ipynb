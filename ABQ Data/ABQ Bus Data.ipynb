{
 "cells": [
  {
   "cell_type": "code",
   "execution_count": 122,
   "metadata": {},
   "outputs": [],
   "source": [
    "import pandas as pd\n"
   ]
  },
  {
   "cell_type": "code",
   "execution_count": 123,
   "metadata": {},
   "outputs": [],
   "source": [
    "import requests\n",
    "\n",
    "url = \"http://data.cabq.gov/transit/realtime/route/allroutes.json\"\n",
    "\n",
    "headers = {'user-agent': 'vscode-restclient'}\n",
    "\n",
    "response = requests.request(\"GET\", url, headers=headers)\n"
   ]
  },
  {
   "cell_type": "code",
   "execution_count": 124,
   "metadata": {},
   "outputs": [],
   "source": [
    "df = pd.DataFrame(response.json()['allroutes'])\n"
   ]
  },
  {
   "cell_type": "code",
   "execution_count": 125,
   "metadata": {},
   "outputs": [],
   "source": [
    "import plotly.graph_objects as go\n",
    "import plotly.express as px\n"
   ]
  },
  {
   "cell_type": "code",
   "execution_count": 126,
   "metadata": {},
   "outputs": [],
   "source": [
    "abq_coord = {\n",
    "    'lat': 35.0844,\n",
    "    'long': -106.6504\n",
    "}\n"
   ]
  },
  {
   "cell_type": "code",
   "execution_count": 127,
   "metadata": {},
   "outputs": [
    {
     "data": {
      "text/html": [
       "<div>\n",
       "<style scoped>\n",
       "    .dataframe tbody tr th:only-of-type {\n",
       "        vertical-align: middle;\n",
       "    }\n",
       "\n",
       "    .dataframe tbody tr th {\n",
       "        vertical-align: top;\n",
       "    }\n",
       "\n",
       "    .dataframe thead th {\n",
       "        text-align: right;\n",
       "    }\n",
       "</style>\n",
       "<table border=\"1\" class=\"dataframe\">\n",
       "  <thead>\n",
       "    <tr style=\"text-align: right;\">\n",
       "      <th></th>\n",
       "      <th>vehicle_id</th>\n",
       "      <th>msg_time</th>\n",
       "      <th>latitude</th>\n",
       "      <th>longitude</th>\n",
       "      <th>heading</th>\n",
       "      <th>speed_mph</th>\n",
       "      <th>route_short_name</th>\n",
       "      <th>trip_id</th>\n",
       "      <th>next_stop_id</th>\n",
       "      <th>next_stop_name</th>\n",
       "      <th>next_stop_sched_time</th>\n",
       "    </tr>\n",
       "  </thead>\n",
       "  <tbody>\n",
       "    <tr>\n",
       "      <th>0</th>\n",
       "      <td>621</td>\n",
       "      <td>10:29:58</td>\n",
       "      <td>35.127530</td>\n",
       "      <td>-106.643290</td>\n",
       "      <td>8</td>\n",
       "      <td>4</td>\n",
       "      <td>10</td>\n",
       "      <td>528063</td>\n",
       "      <td>5145</td>\n",
       "      <td>4th @ Griegos (SE Corner)</td>\n",
       "      <td>10:30:38</td>\n",
       "    </tr>\n",
       "    <tr>\n",
       "      <th>1</th>\n",
       "      <td>978</td>\n",
       "      <td>10:29:58</td>\n",
       "      <td>35.087310</td>\n",
       "      <td>-106.586519</td>\n",
       "      <td>89</td>\n",
       "      <td>5</td>\n",
       "      <td>11</td>\n",
       "      <td>528302</td>\n",
       "      <td>4887</td>\n",
       "      <td>Lomas @ San Mateo</td>\n",
       "      <td>10:23:00</td>\n",
       "    </tr>\n",
       "    <tr>\n",
       "      <th>2</th>\n",
       "      <td>4105</td>\n",
       "      <td>10:29:52</td>\n",
       "      <td>35.083582</td>\n",
       "      <td>-106.647456</td>\n",
       "      <td>194</td>\n",
       "      <td>0</td>\n",
       "      <td>11</td>\n",
       "      <td>528303</td>\n",
       "      <td>4837</td>\n",
       "      <td>A.T.C.  (Bay D)</td>\n",
       "      <td>10:42:00</td>\n",
       "    </tr>\n",
       "    <tr>\n",
       "      <th>3</th>\n",
       "      <td>981</td>\n",
       "      <td>10:29:58</td>\n",
       "      <td>35.087474</td>\n",
       "      <td>-106.551601</td>\n",
       "      <td>269</td>\n",
       "      <td>18</td>\n",
       "      <td>11</td>\n",
       "      <td>528286</td>\n",
       "      <td>5019</td>\n",
       "      <td>Lomas @ Utah</td>\n",
       "      <td>10:31:31</td>\n",
       "    </tr>\n",
       "    <tr>\n",
       "      <th>4</th>\n",
       "      <td>605</td>\n",
       "      <td>10:29:56</td>\n",
       "      <td>35.106580</td>\n",
       "      <td>-106.702850</td>\n",
       "      <td>44</td>\n",
       "      <td>48</td>\n",
       "      <td>141</td>\n",
       "      <td>0</td>\n",
       "      <td>0</td>\n",
       "      <td>V.A. Hospital @ Main Entrance</td>\n",
       "      <td>10:45:00</td>\n",
       "    </tr>\n",
       "    <tr>\n",
       "      <th>...</th>\n",
       "      <td>...</td>\n",
       "      <td>...</td>\n",
       "      <td>...</td>\n",
       "      <td>...</td>\n",
       "      <td>...</td>\n",
       "      <td>...</td>\n",
       "      <td>...</td>\n",
       "      <td>...</td>\n",
       "      <td>...</td>\n",
       "      <td>...</td>\n",
       "      <td>...</td>\n",
       "    </tr>\n",
       "    <tr>\n",
       "      <th>217</th>\n",
       "      <td>1924</td>\n",
       "      <td>16:23:38</td>\n",
       "      <td>35.103465</td>\n",
       "      <td>-106.642196</td>\n",
       "      <td>0</td>\n",
       "      <td>0</td>\n",
       "      <td>Off Duty</td>\n",
       "      <td>0</td>\n",
       "      <td>0</td>\n",
       "      <td>No Data</td>\n",
       "      <td>16:23:38</td>\n",
       "    </tr>\n",
       "    <tr>\n",
       "      <th>218</th>\n",
       "      <td>1906</td>\n",
       "      <td>10:29:59</td>\n",
       "      <td>35.089188</td>\n",
       "      <td>-106.735026</td>\n",
       "      <td>80</td>\n",
       "      <td>0</td>\n",
       "      <td>Off Duty</td>\n",
       "      <td>0</td>\n",
       "      <td>0</td>\n",
       "      <td>No Data</td>\n",
       "      <td>10:29:59</td>\n",
       "    </tr>\n",
       "    <tr>\n",
       "      <th>219</th>\n",
       "      <td>1920</td>\n",
       "      <td>10:29:57</td>\n",
       "      <td>35.089173</td>\n",
       "      <td>-106.734474</td>\n",
       "      <td>181</td>\n",
       "      <td>0</td>\n",
       "      <td>Off Duty</td>\n",
       "      <td>0</td>\n",
       "      <td>0</td>\n",
       "      <td>No Data</td>\n",
       "      <td>10:29:57</td>\n",
       "    </tr>\n",
       "    <tr>\n",
       "      <th>220</th>\n",
       "      <td>719</td>\n",
       "      <td>17:49:06</td>\n",
       "      <td>35.071724</td>\n",
       "      <td>-106.622326</td>\n",
       "      <td>86</td>\n",
       "      <td>0</td>\n",
       "      <td>Off Duty</td>\n",
       "      <td>0</td>\n",
       "      <td>0</td>\n",
       "      <td>No Data</td>\n",
       "      <td>17:49:06</td>\n",
       "    </tr>\n",
       "    <tr>\n",
       "      <th>221</th>\n",
       "      <td>614</td>\n",
       "      <td>03:28:38</td>\n",
       "      <td>35.089080</td>\n",
       "      <td>-106.734560</td>\n",
       "      <td>53</td>\n",
       "      <td>0</td>\n",
       "      <td>Off Duty</td>\n",
       "      <td>0</td>\n",
       "      <td>0</td>\n",
       "      <td>No Data</td>\n",
       "      <td>03:28:38</td>\n",
       "    </tr>\n",
       "  </tbody>\n",
       "</table>\n",
       "<p>222 rows × 11 columns</p>\n",
       "</div>"
      ],
      "text/plain": [
       "    vehicle_id  msg_time   latitude   longitude  heading  speed_mph  \\\n",
       "0          621  10:29:58  35.127530 -106.643290        8          4   \n",
       "1          978  10:29:58  35.087310 -106.586519       89          5   \n",
       "2         4105  10:29:52  35.083582 -106.647456      194          0   \n",
       "3          981  10:29:58  35.087474 -106.551601      269         18   \n",
       "4          605  10:29:56  35.106580 -106.702850       44         48   \n",
       "..         ...       ...        ...         ...      ...        ...   \n",
       "217       1924  16:23:38  35.103465 -106.642196        0          0   \n",
       "218       1906  10:29:59  35.089188 -106.735026       80          0   \n",
       "219       1920  10:29:57  35.089173 -106.734474      181          0   \n",
       "220        719  17:49:06  35.071724 -106.622326       86          0   \n",
       "221        614  03:28:38  35.089080 -106.734560       53          0   \n",
       "\n",
       "    route_short_name trip_id next_stop_id                 next_stop_name  \\\n",
       "0                 10  528063         5145      4th @ Griegos (SE Corner)   \n",
       "1                 11  528302         4887              Lomas @ San Mateo   \n",
       "2                 11  528303         4837                A.T.C.  (Bay D)   \n",
       "3                 11  528286         5019                   Lomas @ Utah   \n",
       "4                141       0            0  V.A. Hospital @ Main Entrance   \n",
       "..               ...     ...          ...                            ...   \n",
       "217         Off Duty       0            0                        No Data   \n",
       "218         Off Duty       0            0                        No Data   \n",
       "219         Off Duty       0            0                        No Data   \n",
       "220         Off Duty       0            0                        No Data   \n",
       "221         Off Duty       0            0                        No Data   \n",
       "\n",
       "    next_stop_sched_time  \n",
       "0               10:30:38  \n",
       "1               10:23:00  \n",
       "2               10:42:00  \n",
       "3               10:31:31  \n",
       "4               10:45:00  \n",
       "..                   ...  \n",
       "217             16:23:38  \n",
       "218             10:29:59  \n",
       "219             10:29:57  \n",
       "220             17:49:06  \n",
       "221             03:28:38  \n",
       "\n",
       "[222 rows x 11 columns]"
      ]
     },
     "execution_count": 127,
     "metadata": {},
     "output_type": "execute_result"
    }
   ],
   "source": [
    "df"
   ]
  },
  {
   "cell_type": "code",
   "execution_count": 128,
   "metadata": {},
   "outputs": [
    {
     "data": {
      "application/vnd.plotly.v1+json": {
       "config": {
        "plotlyServerURL": "https://plot.ly"
       },
       "data": [
        {
         "customdata": [
          [
           "10",
           4,
           "4th @ Griegos (SE Corner)"
          ],
          [
           "11",
           5,
           "Lomas @ San Mateo"
          ],
          [
           "11",
           0,
           "A.T.C.  (Bay D)"
          ],
          [
           "11",
           18,
           "Lomas @ Utah"
          ],
          [
           "141",
           48,
           "V.A. Hospital @ Main Entrance"
          ],
          [
           "141",
           0,
           "San Mateo @ Nambe Ct."
          ],
          [
           "141",
           14,
           "San Mateo @ Candelaria"
          ],
          [
           "155",
           0,
           "NW Transit Center (Bay B)"
          ],
          [
           "155",
           28,
           "Coors @ Mirador"
          ],
          [
           "157",
           9,
           "Montano Transit Center Bay A"
          ],
          [
           "157",
           0,
           "Louisiana @ Kathryn"
          ],
          [
           "157",
           0,
           "Golf Course @ Las Terrazas"
          ],
          [
           "16",
           40,
           "University @ Eastern"
          ],
          [
           "198",
           44,
           "Dennis Chavez @ Condershire"
          ],
          [
           "5",
           35,
           "Montgomery @ Morris"
          ],
          [
           "5",
           2,
           "2nd @ Lomas"
          ],
          [
           "5",
           2,
           "Montgomery @ Tramway"
          ],
          [
           "50",
           19,
           "Yale @ Eton"
          ],
          [
           "66",
           1,
           "CUTC Bay A"
          ],
          [
           "66",
           26,
           "Central @ San Pasquale"
          ],
          [
           "66",
           4,
           "Central @ Airport"
          ],
          [
           "66",
           19,
           "Central @ Pennsylvania"
          ],
          [
           "66",
           7,
           "Wenonah @ Tramway"
          ],
          [
           "66",
           21,
           "Central @ Carlisle"
          ],
          [
           "66",
           0,
           "Central @ Zuni"
          ],
          [
           "766",
           0,
           "CUTC Bay B"
          ],
          [
           "766",
           5,
           "ART - Nob Hill Station"
          ],
          [
           "777",
           21,
           "ART - International District Station"
          ],
          [
           "777",
           0,
           "Tramway @ Wenonah (ART)"
          ],
          [
           "8",
           1,
           "Menaul @ Jefferson"
          ],
          [
           "8",
           19,
           "Menaul @ Kentucky"
          ],
          [
           "8",
           0,
           "2nd @ Silver"
          ],
          [
           "Off Duty",
           0,
           "Off Duty"
          ],
          [
           "Off Duty",
           0,
           "Off Duty"
          ],
          [
           "Off Duty",
           0,
           "Depot"
          ],
          [
           "Off Duty",
           0,
           "No Data"
          ],
          [
           "Off Duty",
           0,
           "No Data"
          ],
          [
           "Off Duty",
           0,
           "No Data"
          ],
          [
           "Off Duty",
           0,
           "Depot"
          ],
          [
           "Off Duty",
           0,
           "No Data"
          ],
          [
           "Off Duty",
           0,
           "Depot"
          ],
          [
           "Off Duty",
           0,
           "No Data"
          ],
          [
           "Off Duty",
           0,
           "No Data"
          ],
          [
           "Off Duty",
           0,
           "Depot"
          ],
          [
           "Off Duty",
           0,
           "No Data"
          ],
          [
           "Off Duty",
           0,
           "No Data"
          ],
          [
           "Off Duty",
           0,
           "Depot"
          ],
          [
           "Off Duty",
           0,
           "Depot"
          ],
          [
           "Off Duty",
           0,
           "No Data"
          ],
          [
           "Off Duty",
           0,
           "No Data"
          ],
          [
           "Off Duty",
           0,
           "Depot"
          ],
          [
           "Off Duty",
           0,
           "Depot"
          ],
          [
           "Off Duty",
           0,
           "Depot"
          ],
          [
           "Off Duty",
           0,
           "Depot"
          ],
          [
           "Off Duty",
           0,
           "No Data"
          ],
          [
           "Off Duty",
           0,
           "Depot"
          ],
          [
           "Off Duty",
           0,
           "Depot"
          ],
          [
           "Off Duty",
           0,
           "Depot"
          ],
          [
           "Off Duty",
           0,
           "Depot"
          ],
          [
           "Off Duty",
           0,
           "Depot"
          ],
          [
           "Off Duty",
           0,
           "Off Duty"
          ],
          [
           "Off Duty",
           0,
           "Depot"
          ],
          [
           "Off Duty",
           0,
           "No Data"
          ],
          [
           "Off Duty",
           0,
           "No Data"
          ],
          [
           "Off Duty",
           0,
           "Depot"
          ],
          [
           "Off Duty",
           0,
           "No Data"
          ],
          [
           "Off Duty",
           0,
           "Depot"
          ],
          [
           "Off Duty",
           0,
           "No Data"
          ],
          [
           "Off Duty",
           0,
           "Depot"
          ],
          [
           "Off Duty",
           0,
           "No Data"
          ],
          [
           "Off Duty",
           0,
           "Depot"
          ],
          [
           "Off Duty",
           0,
           "No Data"
          ],
          [
           "Off Duty",
           0,
           "Depot"
          ],
          [
           "Off Duty",
           0,
           "Depot"
          ],
          [
           "Off Duty",
           0,
           "No Data"
          ],
          [
           "Off Duty",
           0,
           "No Data"
          ],
          [
           "Off Duty",
           0,
           "No Data"
          ],
          [
           "Off Duty",
           0,
           "No Data"
          ],
          [
           "Off Duty",
           0,
           "No Data"
          ],
          [
           "Off Duty",
           0,
           "Depot"
          ],
          [
           "Off Duty",
           0,
           "Depot"
          ],
          [
           "Off Duty",
           0,
           "Depot"
          ],
          [
           "Off Duty",
           0,
           "No Data"
          ],
          [
           "Off Duty",
           0,
           "No Data"
          ],
          [
           "Off Duty",
           0,
           "No Data"
          ],
          [
           "Off Duty",
           0,
           "No Data"
          ],
          [
           "Off Duty",
           0,
           "Depot"
          ],
          [
           "Off Duty",
           0,
           "No Data"
          ],
          [
           "Off Duty",
           0,
           "No Data"
          ],
          [
           "Off Duty",
           0,
           "9th @ V Street (Area 4)"
          ],
          [
           "Off Duty",
           0,
           "No Data"
          ],
          [
           "Off Duty",
           0,
           "No Data"
          ],
          [
           "Off Duty",
           0,
           "Depot"
          ],
          [
           "Off Duty",
           0,
           "No Data"
          ],
          [
           "Off Duty",
           0,
           "No Data"
          ],
          [
           "Off Duty",
           0,
           "No Data"
          ],
          [
           "Off Duty",
           0,
           "Depot"
          ],
          [
           "Off Duty",
           0,
           "Depot"
          ],
          [
           "Off Duty",
           0,
           "9th @ V Street (Area 4)"
          ],
          [
           "Off Duty",
           0,
           "No Data"
          ],
          [
           "Off Duty",
           0,
           "No Data"
          ],
          [
           "Off Duty",
           0,
           "Depot"
          ],
          [
           "Off Duty",
           0,
           "Depot"
          ],
          [
           "Off Duty",
           0,
           "No Data"
          ],
          [
           "Off Duty",
           0,
           "No Data"
          ],
          [
           "Off Duty",
           0,
           "Depot"
          ],
          [
           "Off Duty",
           0,
           "Depot"
          ],
          [
           "Off Duty",
           0,
           "No Data"
          ],
          [
           "Off Duty",
           0,
           "No Data"
          ],
          [
           "Off Duty",
           12,
           "No Data"
          ],
          [
           "Off Duty",
           0,
           "No Data"
          ],
          [
           "Off Duty",
           0,
           "No Data"
          ],
          [
           "Off Duty",
           0,
           "No Data"
          ],
          [
           "Off Duty",
           0,
           "No Data"
          ],
          [
           "Off Duty",
           0,
           "No Data"
          ],
          [
           "Off Duty",
           0,
           "No Data"
          ],
          [
           "Off Duty",
           0,
           "No Data"
          ],
          [
           "Off Duty",
           0,
           "No Data"
          ],
          [
           "Off Duty",
           0,
           "No Data"
          ],
          [
           "Off Duty",
           0,
           "No Data"
          ],
          [
           "Off Duty",
           0,
           "No Data"
          ],
          [
           "Off Duty",
           0,
           "No Data"
          ],
          [
           "Off Duty",
           0,
           "No Data"
          ],
          [
           "Off Duty",
           0,
           "No Data"
          ],
          [
           "Off Duty",
           0,
           "No Data"
          ],
          [
           "Off Duty",
           0,
           "No Data"
          ],
          [
           "Off Duty",
           0,
           "No Data"
          ],
          [
           "Off Duty",
           0,
           "No Data"
          ],
          [
           "Off Duty",
           0,
           "No Data"
          ],
          [
           "Off Duty",
           0,
           "No Data"
          ],
          [
           "Off Duty",
           0,
           "No Data"
          ],
          [
           "Off Duty",
           0,
           "No Data"
          ],
          [
           "Off Duty",
           0,
           "No Data"
          ],
          [
           "Off Duty",
           0,
           "Depot"
          ],
          [
           "Off Duty",
           0,
           "No Data"
          ],
          [
           "Off Duty",
           3,
           "Depot"
          ],
          [
           "Off Duty",
           0,
           "No Data"
          ],
          [
           "Off Duty",
           0,
           "Depot"
          ],
          [
           "Off Duty",
           0,
           "Depot"
          ],
          [
           "Off Duty",
           0,
           "Depot"
          ],
          [
           "Off Duty",
           0,
           "Depot"
          ],
          [
           "Off Duty",
           0,
           "No Data"
          ],
          [
           "Off Duty",
           0,
           "Depot"
          ],
          [
           "Off Duty",
           0,
           "Depot"
          ],
          [
           "Off Duty",
           0,
           "Off Duty"
          ],
          [
           "Off Duty",
           0,
           "Depot"
          ],
          [
           "Off Duty",
           0,
           "Depot"
          ],
          [
           "Off Duty",
           0,
           "Depot"
          ],
          [
           "Off Duty",
           0,
           "No Data"
          ],
          [
           "Off Duty",
           0,
           "Depot"
          ],
          [
           "Off Duty",
           0,
           "No Data"
          ],
          [
           "Off Duty",
           0,
           "No Data"
          ],
          [
           "Off Duty",
           0,
           "Depot"
          ],
          [
           "Off Duty",
           0,
           "Depot"
          ],
          [
           "Off Duty",
           0,
           "No Data"
          ],
          [
           "Off Duty",
           0,
           "No Data"
          ],
          [
           "Off Duty",
           0,
           "No Data"
          ],
          [
           "Off Duty",
           0,
           "No Data"
          ],
          [
           "Off Duty",
           0,
           "Depot"
          ],
          [
           "Off Duty",
           0,
           "No Data"
          ],
          [
           "Off Duty",
           0,
           "Depot"
          ],
          [
           "Off Duty",
           0,
           "Depot"
          ],
          [
           "Off Duty",
           0,
           "Depot"
          ],
          [
           "Off Duty",
           10,
           "Off Duty"
          ],
          [
           "Off Duty",
           0,
           "Depot"
          ],
          [
           "Off Duty",
           0,
           "Depot"
          ],
          [
           "Off Duty",
           0,
           "No Data"
          ],
          [
           "Off Duty",
           0,
           "No Data"
          ],
          [
           "Off Duty",
           0,
           "Depot"
          ],
          [
           "Off Duty",
           0,
           "Depot"
          ],
          [
           "Off Duty",
           0,
           "Depot"
          ],
          [
           "Off Duty",
           0,
           "Depot"
          ],
          [
           "Off Duty",
           0,
           "No Data"
          ],
          [
           "Off Duty",
           0,
           "Depot"
          ],
          [
           "Off Duty",
           0,
           "No Data"
          ],
          [
           "Off Duty",
           0,
           "No Data"
          ],
          [
           "Off Duty",
           64,
           "No Data"
          ],
          [
           "Off Duty",
           0,
           "No Data"
          ],
          [
           "Off Duty",
           0,
           "Depot"
          ],
          [
           "Off Duty",
           0,
           "Depot"
          ],
          [
           "Off Duty",
           0,
           "No Data"
          ],
          [
           "Off Duty",
           0,
           "Depot"
          ],
          [
           "Off Duty",
           0,
           "No Data"
          ],
          [
           "Off Duty",
           0,
           "No Data"
          ],
          [
           "Off Duty",
           0,
           "No Data"
          ],
          [
           "Off Duty",
           0,
           "No Data"
          ],
          [
           "Off Duty",
           0,
           "No Data"
          ],
          [
           "Off Duty",
           0,
           "No Data"
          ],
          [
           "Off Duty",
           0,
           "No Data"
          ],
          [
           "Off Duty",
           0,
           "Depot"
          ],
          [
           "Off Duty",
           0,
           "No Data"
          ],
          [
           "Off Duty",
           0,
           "Depot"
          ],
          [
           "Off Duty",
           0,
           "Depot"
          ],
          [
           "Off Duty",
           0,
           "Depot"
          ],
          [
           "Off Duty",
           0,
           "Depot"
          ],
          [
           "Off Duty",
           0,
           "No Data"
          ],
          [
           "Off Duty",
           26,
           "No Data"
          ],
          [
           "Off Duty",
           0,
           "No Data"
          ],
          [
           "Off Duty",
           0,
           "No Data"
          ],
          [
           "Off Duty",
           0,
           "No Data"
          ],
          [
           "Off Duty",
           0,
           "Depot"
          ],
          [
           "Off Duty",
           24,
           "No Data"
          ],
          [
           "Off Duty",
           0,
           "No Data"
          ],
          [
           "Off Duty",
           0,
           "No Data"
          ],
          [
           "Off Duty",
           0,
           "No Data"
          ],
          [
           "Off Duty",
           0,
           "No Data"
          ],
          [
           "Off Duty",
           0,
           "Depot"
          ],
          [
           "Off Duty",
           26,
           "No Data"
          ],
          [
           "Off Duty",
           0,
           "No Data"
          ],
          [
           "Off Duty",
           0,
           "Depot"
          ],
          [
           "Off Duty",
           0,
           "Depot"
          ],
          [
           "Off Duty",
           0,
           "No Data"
          ],
          [
           "Off Duty",
           0,
           "No Data"
          ],
          [
           "Off Duty",
           0,
           "No Data"
          ],
          [
           "Off Duty",
           0,
           "No Data"
          ],
          [
           "Off Duty",
           0,
           "No Data"
          ],
          [
           "Off Duty",
           0,
           "Depot"
          ],
          [
           "Off Duty",
           0,
           "No Data"
          ],
          [
           "Off Duty",
           0,
           "No Data"
          ],
          [
           "Off Duty",
           0,
           "No Data"
          ],
          [
           "Off Duty",
           0,
           "No Data"
          ],
          [
           "Off Duty",
           0,
           "No Data"
          ]
         ],
         "hovertemplate": "<b>Route:</b> %{customdata[0]}<br><b>Speed:</b> %{customdata[1]} MPH<br><b>Next Stop:</b> %{customdata[2]}<extra></extra>",
         "lat": [
          35.12753,
          35.0873095,
          35.0835817,
          35.0874737,
          35.10658,
          35.0814355,
          35.11943,
          35.2064778,
          35.1441793,
          35.13749,
          35.0673687,
          35.1803432,
          35.0585488,
          35.0247785,
          35.13056,
          35.09127,
          35.1305027,
          35.07622,
          35.07732,
          35.09177,
          35.07943,
          35.0746538,
          35.08956,
          35.07957,
          35.07373,
          35.0787783,
          35.081003,
          35.0739878,
          35.0698783,
          35.10908,
          35.103731,
          35.08304,
          35.08952,
          35.08933,
          35.08926,
          35.08927,
          35.08923,
          35.08934,
          35.0895,
          35.08927,
          35.08925,
          35.08921,
          35.08967,
          35.08926,
          35.08921,
          35.0717917,
          35.0717077,
          35.0714203,
          35.0724747,
          35.0714692,
          35.0713955,
          35.0713923,
          35.0716105,
          35.0714442,
          35.0718828,
          35.0716557,
          35.0716368,
          35.0715255,
          35.071509,
          35.071671,
          35.071577,
          35.0716758,
          35.0723548,
          35.0718547,
          35.071396,
          35.0718175,
          35.0716593,
          35.0716248,
          35.071638,
          35.0717402,
          35.0715808,
          35.0718072,
          35.0716403,
          35.071476,
          35.0716465,
          35.071873,
          35.0718682,
          35.0718167,
          35.0717758,
          35.0716652,
          35.0714492,
          35.0719632,
          35.0717657,
          35.0894187,
          35.0891958,
          35.08986,
          35.07167,
          35.07201,
          35.09005,
          35.08966,
          35.07195,
          35.10821,
          35.07162,
          35.0899,
          35.09011,
          35.08967,
          35.08993,
          35.07166,
          35.08965,
          35.08966,
          35.08999,
          35.0718,
          35.09056,
          35.09001,
          35.09009,
          35.07175,
          35.09051,
          35.08992,
          35.09013,
          35.13852,
          35.09007,
          35.08999,
          35.09012,
          35.08988,
          35.08942,
          35.08991,
          35.09006,
          35.09054,
          35.08996,
          35.05313,
          35.08997,
          35.08989,
          35.10937,
          35.09007,
          35.08993,
          35.09011,
          35.09005,
          35.09017,
          35.09012,
          35.08995,
          35.08989,
          35.09007,
          35.09057,
          35.0891557,
          35.0891932,
          35.0896973,
          35.0887497,
          35.0885503,
          35.0886772,
          35.0892032,
          35.0891598,
          35.0889887,
          35.088579,
          35.0891748,
          35.0898877,
          35.0890222,
          35.0891358,
          35.0891512,
          35.0895573,
          35.08996,
          35.08999,
          35.0900178,
          35.0723963,
          35.0891182,
          35.09052,
          35.071862,
          35.0893015,
          35.10441,
          35.0715273,
          35.1937747,
          35.08925,
          35.0890535,
          35.0891705,
          35.0894158,
          35.08935,
          35.0895063,
          35.0717917,
          35.0717813,
          35.0716038,
          35.071586,
          35.08957,
          35.0714728,
          35.0718095,
          35.0716623,
          35.09002,
          35.09015,
          35.18274,
          35.09007,
          35.0717093,
          35.0714337,
          35.09013,
          35.08999,
          35.0899,
          35.08725,
          35.08958,
          35.0720012,
          35.09059,
          35.0717847,
          35.07167,
          35.0715543,
          35.09012,
          35.0715335,
          35.07171,
          35.0714552,
          35.0894115,
          35.09014,
          35.10258,
          35.08991,
          35.08926,
          35.08994,
          35.08996,
          35.13032,
          35.0718865,
          35.0718353,
          35.08946,
          35.0725095,
          35.09052,
          35.1387,
          35.10184,
          35.0717243,
          35.071704,
          35.08924,
          35.089594,
          35.09055,
          35.08948,
          35.0717,
          35.0715125,
          35.1034653,
          35.0891883,
          35.0891732,
          35.0717238,
          35.08908
         ],
         "lon": [
          -106.64329,
          -106.5865192,
          -106.6474562,
          -106.5516005,
          -106.70285,
          -106.5860828,
          -106.58656,
          -106.660192,
          -106.6943302,
          -106.63342,
          -106.5687908,
          -106.6878527,
          -106.6262232,
          -106.7204258,
          -106.52833,
          -106.64913,
          -106.4968883,
          -106.62214,
          -106.72233,
          -106.66666,
          -106.72397,
          -106.5565313,
          -106.73294,
          -106.60193,
          -106.55004,
          -106.725247,
          -106.619665,
          -106.550136,
          -106.5142742,
          -106.59589,
          -106.5716762,
          -106.64758,
          -106.73419,
          -106.73326,
          -106.73358,
          -106.73421,
          -106.73332,
          -106.73413,
          -106.73421,
          -106.7342,
          -106.73327,
          -106.73378,
          -106.73414,
          -106.73342,
          -106.73365,
          -106.6227802,
          -106.6227947,
          -106.6233782,
          -106.623269,
          -106.6227548,
          -106.6236612,
          -106.6238592,
          -106.6223105,
          -106.6224067,
          -106.6226002,
          -106.6224688,
          -106.6225185,
          -106.6228117,
          -106.6226675,
          -106.6226528,
          -106.6223872,
          -106.6234367,
          -106.6231683,
          -106.6227452,
          -106.6224798,
          -106.6226595,
          -106.6232765,
          -106.6228028,
          -106.622706,
          -106.622638,
          -106.6227925,
          -106.6224828,
          -106.6223748,
          -106.6225185,
          -106.623565,
          -106.622788,
          -106.6223365,
          -106.6223145,
          -106.6226217,
          -106.6224542,
          -106.6239702,
          -106.6234857,
          -106.6227747,
          -106.734596,
          -106.7334672,
          -106.73292,
          -106.62298,
          -106.62352,
          -106.73375,
          -106.73312,
          -106.62357,
          -106.53323,
          -106.62299,
          -106.73376,
          -106.73293,
          -106.73336,
          -106.73384,
          -106.62297,
          -106.73361,
          -106.73347,
          -106.73301,
          -106.62299,
          -106.73451,
          -106.73302,
          -106.73292,
          -106.62296,
          -106.7347,
          -106.73319,
          -106.73299,
          -106.5299,
          -106.7329,
          -106.73343,
          -106.73302,
          -106.73318,
          -106.73458,
          -106.73291,
          -106.7332,
          -106.73444,
          -106.733,
          -106.71663,
          -106.733,
          -106.73345,
          -106.58635,
          -106.73329,
          -106.73345,
          -106.73328,
          -106.7329,
          -106.73318,
          -106.733,
          -106.7329,
          -106.73301,
          -106.73319,
          -106.73433,
          -106.7334793,
          -106.7347622,
          -106.7326203,
          -106.733845,
          -106.7338355,
          -106.73383,
          -106.7338872,
          -106.7332608,
          -106.7331127,
          -106.7338553,
          -106.7334698,
          -106.7326028,
          -106.7331167,
          -106.7330518,
          -106.7337113,
          -106.7340943,
          -106.7332,
          -106.7329,
          -106.7347053,
          -106.6232795,
          -106.7331262,
          -106.73478,
          -106.622462,
          -106.7343957,
          -106.66171,
          -106.6226693,
          -106.5919652,
          -106.73312,
          -106.7331233,
          -106.7337017,
          -106.7337857,
          -106.73419,
          -106.7341805,
          -106.6223393,
          -106.6222878,
          -106.622632,
          -106.622469,
          -106.73326,
          -106.6239257,
          -106.6224728,
          -106.6228113,
          -106.73346,
          -106.7332,
          -106.64862,
          -106.73347,
          -106.622359,
          -106.6235522,
          -106.73318,
          -106.73385,
          -106.73298,
          -106.51282,
          -106.73355,
          -106.6232695,
          -106.73425,
          -106.6224623,
          -106.62346,
          -106.6223395,
          -106.73374,
          -106.6224332,
          -106.62298,
          -106.6228025,
          -106.7341825,
          -106.73326,
          -106.70603,
          -106.73384,
          -106.73375,
          -106.73345,
          -106.73383,
          -106.51561,
          -106.6234925,
          -106.6227088,
          -106.73326,
          -106.6234885,
          -106.73461,
          -106.64158,
          -106.7123,
          -106.622441,
          -106.6227448,
          -106.7342,
          -106.7341465,
          -106.73411,
          -106.7346,
          -106.62358,
          -106.622812,
          -106.6421962,
          -106.7350257,
          -106.7344743,
          -106.6223262,
          -106.73456
         ],
         "marker": {
          "size": 7,
          "symbol": "bus"
         },
         "mode": "markers",
         "text": [
          "10",
          "11",
          "11",
          "11",
          "141",
          "141",
          "141",
          "155",
          "155",
          "157",
          "157",
          "157",
          "16",
          "198",
          "5",
          "5",
          "5",
          "50",
          "66",
          "66",
          "66",
          "66",
          "66",
          "66",
          "66",
          "766",
          "766",
          "777",
          "777",
          "8",
          "8",
          "8",
          "Off Duty",
          "Off Duty",
          "Off Duty",
          "Off Duty",
          "Off Duty",
          "Off Duty",
          "Off Duty",
          "Off Duty",
          "Off Duty",
          "Off Duty",
          "Off Duty",
          "Off Duty",
          "Off Duty",
          "Off Duty",
          "Off Duty",
          "Off Duty",
          "Off Duty",
          "Off Duty",
          "Off Duty",
          "Off Duty",
          "Off Duty",
          "Off Duty",
          "Off Duty",
          "Off Duty",
          "Off Duty",
          "Off Duty",
          "Off Duty",
          "Off Duty",
          "Off Duty",
          "Off Duty",
          "Off Duty",
          "Off Duty",
          "Off Duty",
          "Off Duty",
          "Off Duty",
          "Off Duty",
          "Off Duty",
          "Off Duty",
          "Off Duty",
          "Off Duty",
          "Off Duty",
          "Off Duty",
          "Off Duty",
          "Off Duty",
          "Off Duty",
          "Off Duty",
          "Off Duty",
          "Off Duty",
          "Off Duty",
          "Off Duty",
          "Off Duty",
          "Off Duty",
          "Off Duty",
          "Off Duty",
          "Off Duty",
          "Off Duty",
          "Off Duty",
          "Off Duty",
          "Off Duty",
          "Off Duty",
          "Off Duty",
          "Off Duty",
          "Off Duty",
          "Off Duty",
          "Off Duty",
          "Off Duty",
          "Off Duty",
          "Off Duty",
          "Off Duty",
          "Off Duty",
          "Off Duty",
          "Off Duty",
          "Off Duty",
          "Off Duty",
          "Off Duty",
          "Off Duty",
          "Off Duty",
          "Off Duty",
          "Off Duty",
          "Off Duty",
          "Off Duty",
          "Off Duty",
          "Off Duty",
          "Off Duty",
          "Off Duty",
          "Off Duty",
          "Off Duty",
          "Off Duty",
          "Off Duty",
          "Off Duty",
          "Off Duty",
          "Off Duty",
          "Off Duty",
          "Off Duty",
          "Off Duty",
          "Off Duty",
          "Off Duty",
          "Off Duty",
          "Off Duty",
          "Off Duty",
          "Off Duty",
          "Off Duty",
          "Off Duty",
          "Off Duty",
          "Off Duty",
          "Off Duty",
          "Off Duty",
          "Off Duty",
          "Off Duty",
          "Off Duty",
          "Off Duty",
          "Off Duty",
          "Off Duty",
          "Off Duty",
          "Off Duty",
          "Off Duty",
          "Off Duty",
          "Off Duty",
          "Off Duty",
          "Off Duty",
          "Off Duty",
          "Off Duty",
          "Off Duty",
          "Off Duty",
          "Off Duty",
          "Off Duty",
          "Off Duty",
          "Off Duty",
          "Off Duty",
          "Off Duty",
          "Off Duty",
          "Off Duty",
          "Off Duty",
          "Off Duty",
          "Off Duty",
          "Off Duty",
          "Off Duty",
          "Off Duty",
          "Off Duty",
          "Off Duty",
          "Off Duty",
          "Off Duty",
          "Off Duty",
          "Off Duty",
          "Off Duty",
          "Off Duty",
          "Off Duty",
          "Off Duty",
          "Off Duty",
          "Off Duty",
          "Off Duty",
          "Off Duty",
          "Off Duty",
          "Off Duty",
          "Off Duty",
          "Off Duty",
          "Off Duty",
          "Off Duty",
          "Off Duty",
          "Off Duty",
          "Off Duty",
          "Off Duty",
          "Off Duty",
          "Off Duty",
          "Off Duty",
          "Off Duty",
          "Off Duty",
          "Off Duty",
          "Off Duty",
          "Off Duty",
          "Off Duty",
          "Off Duty",
          "Off Duty",
          "Off Duty",
          "Off Duty",
          "Off Duty",
          "Off Duty",
          "Off Duty",
          "Off Duty",
          "Off Duty",
          "Off Duty",
          "Off Duty",
          "Off Duty",
          "Off Duty",
          "Off Duty",
          "Off Duty",
          "Off Duty",
          "Off Duty",
          "Off Duty",
          "Off Duty"
         ],
         "textposition": "bottom right",
         "type": "scattermapbox"
        }
       ],
       "layout": {
        "mapbox": {
         "accesstoken": "pk.eyJ1IjoiYXVzdGluLXNtaXRoIiwiYSI6ImNsNWZlb3d6ODB6OG8zZG1wcWh2dGhlaDMifQ.hL-m5xPRheQCVQRgMbfBkw",
         "center": {
          "lat": 35.0844,
          "lon": -106.6504
         },
         "style": "outdoors",
         "zoom": 11
        },
        "showlegend": false,
        "template": {
         "data": {
          "bar": [
           {
            "error_x": {
             "color": "#2a3f5f"
            },
            "error_y": {
             "color": "#2a3f5f"
            },
            "marker": {
             "line": {
              "color": "#E5ECF6",
              "width": 0.5
             },
             "pattern": {
              "fillmode": "overlay",
              "size": 10,
              "solidity": 0.2
             }
            },
            "type": "bar"
           }
          ],
          "barpolar": [
           {
            "marker": {
             "line": {
              "color": "#E5ECF6",
              "width": 0.5
             },
             "pattern": {
              "fillmode": "overlay",
              "size": 10,
              "solidity": 0.2
             }
            },
            "type": "barpolar"
           }
          ],
          "carpet": [
           {
            "aaxis": {
             "endlinecolor": "#2a3f5f",
             "gridcolor": "white",
             "linecolor": "white",
             "minorgridcolor": "white",
             "startlinecolor": "#2a3f5f"
            },
            "baxis": {
             "endlinecolor": "#2a3f5f",
             "gridcolor": "white",
             "linecolor": "white",
             "minorgridcolor": "white",
             "startlinecolor": "#2a3f5f"
            },
            "type": "carpet"
           }
          ],
          "choropleth": [
           {
            "colorbar": {
             "outlinewidth": 0,
             "ticks": ""
            },
            "type": "choropleth"
           }
          ],
          "contour": [
           {
            "colorbar": {
             "outlinewidth": 0,
             "ticks": ""
            },
            "colorscale": [
             [
              0,
              "#0d0887"
             ],
             [
              0.1111111111111111,
              "#46039f"
             ],
             [
              0.2222222222222222,
              "#7201a8"
             ],
             [
              0.3333333333333333,
              "#9c179e"
             ],
             [
              0.4444444444444444,
              "#bd3786"
             ],
             [
              0.5555555555555556,
              "#d8576b"
             ],
             [
              0.6666666666666666,
              "#ed7953"
             ],
             [
              0.7777777777777778,
              "#fb9f3a"
             ],
             [
              0.8888888888888888,
              "#fdca26"
             ],
             [
              1,
              "#f0f921"
             ]
            ],
            "type": "contour"
           }
          ],
          "contourcarpet": [
           {
            "colorbar": {
             "outlinewidth": 0,
             "ticks": ""
            },
            "type": "contourcarpet"
           }
          ],
          "heatmap": [
           {
            "colorbar": {
             "outlinewidth": 0,
             "ticks": ""
            },
            "colorscale": [
             [
              0,
              "#0d0887"
             ],
             [
              0.1111111111111111,
              "#46039f"
             ],
             [
              0.2222222222222222,
              "#7201a8"
             ],
             [
              0.3333333333333333,
              "#9c179e"
             ],
             [
              0.4444444444444444,
              "#bd3786"
             ],
             [
              0.5555555555555556,
              "#d8576b"
             ],
             [
              0.6666666666666666,
              "#ed7953"
             ],
             [
              0.7777777777777778,
              "#fb9f3a"
             ],
             [
              0.8888888888888888,
              "#fdca26"
             ],
             [
              1,
              "#f0f921"
             ]
            ],
            "type": "heatmap"
           }
          ],
          "heatmapgl": [
           {
            "colorbar": {
             "outlinewidth": 0,
             "ticks": ""
            },
            "colorscale": [
             [
              0,
              "#0d0887"
             ],
             [
              0.1111111111111111,
              "#46039f"
             ],
             [
              0.2222222222222222,
              "#7201a8"
             ],
             [
              0.3333333333333333,
              "#9c179e"
             ],
             [
              0.4444444444444444,
              "#bd3786"
             ],
             [
              0.5555555555555556,
              "#d8576b"
             ],
             [
              0.6666666666666666,
              "#ed7953"
             ],
             [
              0.7777777777777778,
              "#fb9f3a"
             ],
             [
              0.8888888888888888,
              "#fdca26"
             ],
             [
              1,
              "#f0f921"
             ]
            ],
            "type": "heatmapgl"
           }
          ],
          "histogram": [
           {
            "marker": {
             "pattern": {
              "fillmode": "overlay",
              "size": 10,
              "solidity": 0.2
             }
            },
            "type": "histogram"
           }
          ],
          "histogram2d": [
           {
            "colorbar": {
             "outlinewidth": 0,
             "ticks": ""
            },
            "colorscale": [
             [
              0,
              "#0d0887"
             ],
             [
              0.1111111111111111,
              "#46039f"
             ],
             [
              0.2222222222222222,
              "#7201a8"
             ],
             [
              0.3333333333333333,
              "#9c179e"
             ],
             [
              0.4444444444444444,
              "#bd3786"
             ],
             [
              0.5555555555555556,
              "#d8576b"
             ],
             [
              0.6666666666666666,
              "#ed7953"
             ],
             [
              0.7777777777777778,
              "#fb9f3a"
             ],
             [
              0.8888888888888888,
              "#fdca26"
             ],
             [
              1,
              "#f0f921"
             ]
            ],
            "type": "histogram2d"
           }
          ],
          "histogram2dcontour": [
           {
            "colorbar": {
             "outlinewidth": 0,
             "ticks": ""
            },
            "colorscale": [
             [
              0,
              "#0d0887"
             ],
             [
              0.1111111111111111,
              "#46039f"
             ],
             [
              0.2222222222222222,
              "#7201a8"
             ],
             [
              0.3333333333333333,
              "#9c179e"
             ],
             [
              0.4444444444444444,
              "#bd3786"
             ],
             [
              0.5555555555555556,
              "#d8576b"
             ],
             [
              0.6666666666666666,
              "#ed7953"
             ],
             [
              0.7777777777777778,
              "#fb9f3a"
             ],
             [
              0.8888888888888888,
              "#fdca26"
             ],
             [
              1,
              "#f0f921"
             ]
            ],
            "type": "histogram2dcontour"
           }
          ],
          "mesh3d": [
           {
            "colorbar": {
             "outlinewidth": 0,
             "ticks": ""
            },
            "type": "mesh3d"
           }
          ],
          "parcoords": [
           {
            "line": {
             "colorbar": {
              "outlinewidth": 0,
              "ticks": ""
             }
            },
            "type": "parcoords"
           }
          ],
          "pie": [
           {
            "automargin": true,
            "type": "pie"
           }
          ],
          "scatter": [
           {
            "fillpattern": {
             "fillmode": "overlay",
             "size": 10,
             "solidity": 0.2
            },
            "type": "scatter"
           }
          ],
          "scatter3d": [
           {
            "line": {
             "colorbar": {
              "outlinewidth": 0,
              "ticks": ""
             }
            },
            "marker": {
             "colorbar": {
              "outlinewidth": 0,
              "ticks": ""
             }
            },
            "type": "scatter3d"
           }
          ],
          "scattercarpet": [
           {
            "marker": {
             "colorbar": {
              "outlinewidth": 0,
              "ticks": ""
             }
            },
            "type": "scattercarpet"
           }
          ],
          "scattergeo": [
           {
            "marker": {
             "colorbar": {
              "outlinewidth": 0,
              "ticks": ""
             }
            },
            "type": "scattergeo"
           }
          ],
          "scattergl": [
           {
            "marker": {
             "colorbar": {
              "outlinewidth": 0,
              "ticks": ""
             }
            },
            "type": "scattergl"
           }
          ],
          "scattermapbox": [
           {
            "marker": {
             "colorbar": {
              "outlinewidth": 0,
              "ticks": ""
             }
            },
            "type": "scattermapbox"
           }
          ],
          "scatterpolar": [
           {
            "marker": {
             "colorbar": {
              "outlinewidth": 0,
              "ticks": ""
             }
            },
            "type": "scatterpolar"
           }
          ],
          "scatterpolargl": [
           {
            "marker": {
             "colorbar": {
              "outlinewidth": 0,
              "ticks": ""
             }
            },
            "type": "scatterpolargl"
           }
          ],
          "scatterternary": [
           {
            "marker": {
             "colorbar": {
              "outlinewidth": 0,
              "ticks": ""
             }
            },
            "type": "scatterternary"
           }
          ],
          "surface": [
           {
            "colorbar": {
             "outlinewidth": 0,
             "ticks": ""
            },
            "colorscale": [
             [
              0,
              "#0d0887"
             ],
             [
              0.1111111111111111,
              "#46039f"
             ],
             [
              0.2222222222222222,
              "#7201a8"
             ],
             [
              0.3333333333333333,
              "#9c179e"
             ],
             [
              0.4444444444444444,
              "#bd3786"
             ],
             [
              0.5555555555555556,
              "#d8576b"
             ],
             [
              0.6666666666666666,
              "#ed7953"
             ],
             [
              0.7777777777777778,
              "#fb9f3a"
             ],
             [
              0.8888888888888888,
              "#fdca26"
             ],
             [
              1,
              "#f0f921"
             ]
            ],
            "type": "surface"
           }
          ],
          "table": [
           {
            "cells": {
             "fill": {
              "color": "#EBF0F8"
             },
             "line": {
              "color": "white"
             }
            },
            "header": {
             "fill": {
              "color": "#C8D4E3"
             },
             "line": {
              "color": "white"
             }
            },
            "type": "table"
           }
          ]
         },
         "layout": {
          "annotationdefaults": {
           "arrowcolor": "#2a3f5f",
           "arrowhead": 0,
           "arrowwidth": 1
          },
          "autotypenumbers": "strict",
          "coloraxis": {
           "colorbar": {
            "outlinewidth": 0,
            "ticks": ""
           }
          },
          "colorscale": {
           "diverging": [
            [
             0,
             "#8e0152"
            ],
            [
             0.1,
             "#c51b7d"
            ],
            [
             0.2,
             "#de77ae"
            ],
            [
             0.3,
             "#f1b6da"
            ],
            [
             0.4,
             "#fde0ef"
            ],
            [
             0.5,
             "#f7f7f7"
            ],
            [
             0.6,
             "#e6f5d0"
            ],
            [
             0.7,
             "#b8e186"
            ],
            [
             0.8,
             "#7fbc41"
            ],
            [
             0.9,
             "#4d9221"
            ],
            [
             1,
             "#276419"
            ]
           ],
           "sequential": [
            [
             0,
             "#0d0887"
            ],
            [
             0.1111111111111111,
             "#46039f"
            ],
            [
             0.2222222222222222,
             "#7201a8"
            ],
            [
             0.3333333333333333,
             "#9c179e"
            ],
            [
             0.4444444444444444,
             "#bd3786"
            ],
            [
             0.5555555555555556,
             "#d8576b"
            ],
            [
             0.6666666666666666,
             "#ed7953"
            ],
            [
             0.7777777777777778,
             "#fb9f3a"
            ],
            [
             0.8888888888888888,
             "#fdca26"
            ],
            [
             1,
             "#f0f921"
            ]
           ],
           "sequentialminus": [
            [
             0,
             "#0d0887"
            ],
            [
             0.1111111111111111,
             "#46039f"
            ],
            [
             0.2222222222222222,
             "#7201a8"
            ],
            [
             0.3333333333333333,
             "#9c179e"
            ],
            [
             0.4444444444444444,
             "#bd3786"
            ],
            [
             0.5555555555555556,
             "#d8576b"
            ],
            [
             0.6666666666666666,
             "#ed7953"
            ],
            [
             0.7777777777777778,
             "#fb9f3a"
            ],
            [
             0.8888888888888888,
             "#fdca26"
            ],
            [
             1,
             "#f0f921"
            ]
           ]
          },
          "colorway": [
           "#636efa",
           "#EF553B",
           "#00cc96",
           "#ab63fa",
           "#FFA15A",
           "#19d3f3",
           "#FF6692",
           "#B6E880",
           "#FF97FF",
           "#FECB52"
          ],
          "font": {
           "color": "#2a3f5f"
          },
          "geo": {
           "bgcolor": "white",
           "lakecolor": "white",
           "landcolor": "#E5ECF6",
           "showlakes": true,
           "showland": true,
           "subunitcolor": "white"
          },
          "hoverlabel": {
           "align": "left"
          },
          "hovermode": "closest",
          "mapbox": {
           "style": "light"
          },
          "paper_bgcolor": "white",
          "plot_bgcolor": "#E5ECF6",
          "polar": {
           "angularaxis": {
            "gridcolor": "white",
            "linecolor": "white",
            "ticks": ""
           },
           "bgcolor": "#E5ECF6",
           "radialaxis": {
            "gridcolor": "white",
            "linecolor": "white",
            "ticks": ""
           }
          },
          "scene": {
           "xaxis": {
            "backgroundcolor": "#E5ECF6",
            "gridcolor": "white",
            "gridwidth": 2,
            "linecolor": "white",
            "showbackground": true,
            "ticks": "",
            "zerolinecolor": "white"
           },
           "yaxis": {
            "backgroundcolor": "#E5ECF6",
            "gridcolor": "white",
            "gridwidth": 2,
            "linecolor": "white",
            "showbackground": true,
            "ticks": "",
            "zerolinecolor": "white"
           },
           "zaxis": {
            "backgroundcolor": "#E5ECF6",
            "gridcolor": "white",
            "gridwidth": 2,
            "linecolor": "white",
            "showbackground": true,
            "ticks": "",
            "zerolinecolor": "white"
           }
          },
          "shapedefaults": {
           "line": {
            "color": "#2a3f5f"
           }
          },
          "ternary": {
           "aaxis": {
            "gridcolor": "white",
            "linecolor": "white",
            "ticks": ""
           },
           "baxis": {
            "gridcolor": "white",
            "linecolor": "white",
            "ticks": ""
           },
           "bgcolor": "#E5ECF6",
           "caxis": {
            "gridcolor": "white",
            "linecolor": "white",
            "ticks": ""
           }
          },
          "title": {
           "x": 0.05
          },
          "xaxis": {
           "automargin": true,
           "gridcolor": "white",
           "linecolor": "white",
           "ticks": "",
           "title": {
            "standoff": 15
           },
           "zerolinecolor": "white",
           "zerolinewidth": 2
          },
          "yaxis": {
           "automargin": true,
           "gridcolor": "white",
           "linecolor": "white",
           "ticks": "",
           "title": {
            "standoff": 15
           },
           "zerolinecolor": "white",
           "zerolinewidth": 2
          }
         }
        }
       }
      }
     },
     "metadata": {},
     "output_type": "display_data"
    }
   ],
   "source": [
    "import plotly.graph_objects as go\n",
    "import numpy as np\n",
    "\n",
    "token = open(\".mapbox_token\").read()  # you need your own token\n",
    "fig = go.Figure(go.Scattermapbox(\n",
    "    mode=\"markers\",\n",
    "    customdata=np.stack((df['route_short_name'], df['speed_mph'], df['next_stop_name']), axis=-1),\n",
    "    hovertemplate=\"<b>Route:</b> %{customdata[0]}<br><b>Speed:</b> %{customdata[1]} MPH<br><b>Next Stop:</b> %{customdata[2]}<extra></extra>\",\n",
    "    lon=df['longitude'], lat=df['latitude'],\n",
    "    marker={'size': 7, \n",
    "    'symbol': \"bus\"},\n",
    "    text=df['route_short_name'], textposition=\"bottom right\"))\n",
    "\n",
    "fig.update_layout(\n",
    "    mapbox={\n",
    "        'accesstoken': token,\n",
    "        'center': {'lat': abq_coord['lat'],\n",
    "                   'lon': abq_coord['long']},\n",
    "        'style': 'outdoors', 'zoom': 11},\n",
    "    showlegend=False)\n",
    "\n",
    "fig.show()\n"
   ]
  }
 ],
 "metadata": {
  "kernelspec": {
   "display_name": "Python 3.10.5 64-bit",
   "language": "python",
   "name": "python3"
  },
  "language_info": {
   "codemirror_mode": {
    "name": "ipython",
    "version": 3
   },
   "file_extension": ".py",
   "mimetype": "text/x-python",
   "name": "python",
   "nbconvert_exporter": "python",
   "pygments_lexer": "ipython3",
   "version": "3.10.5"
  },
  "orig_nbformat": 4,
  "vscode": {
   "interpreter": {
    "hash": "759d0d21976bd259edbb251dc21a2558bba30222ea54aab68b2315a5050e134b"
   }
  }
 },
 "nbformat": 4,
 "nbformat_minor": 2
}
