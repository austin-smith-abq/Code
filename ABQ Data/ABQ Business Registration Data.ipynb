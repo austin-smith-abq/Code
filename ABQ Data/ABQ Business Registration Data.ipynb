{
 "cells": [
  {
   "cell_type": "code",
   "execution_count": 3,
   "metadata": {},
   "outputs": [],
   "source": [
    "import pandas as pd\n",
    "pd.read_xml('http://data.cabq.gov/business/busregistration/BusinessRegistrationCABQ-en-us.xml')"
   ]
  }
 ],
 "metadata": {
  "kernelspec": {
   "display_name": "Python 3.10.5 64-bit",
   "language": "python",
   "name": "python3"
  },
  "language_info": {
   "codemirror_mode": {
    "name": "ipython",
    "version": 3
   },
   "file_extension": ".py",
   "mimetype": "text/x-python",
   "name": "python",
   "nbconvert_exporter": "python",
   "pygments_lexer": "ipython3",
   "version": "3.10.5"
  },
  "orig_nbformat": 4,
  "vscode": {
   "interpreter": {
    "hash": "759d0d21976bd259edbb251dc21a2558bba30222ea54aab68b2315a5050e134b"
   }
  }
 },
 "nbformat": 4,
 "nbformat_minor": 2
}
