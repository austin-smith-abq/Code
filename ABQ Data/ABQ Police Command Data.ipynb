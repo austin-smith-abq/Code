{
 "cells": [
  {
   "cell_type": "code",
   "execution_count": 1,
   "metadata": {},
   "outputs": [],
   "source": [
    "import requests\n",
    "import pandas as pd\n",
    "import json\n",
    "\n",
    "url = \"https://coagisweb.cabq.gov/arcgis/rest/services/public/adminboundaries/MapServer/8/query\"\n",
    "\n",
    "querystring = {\"where\":\"1=1\",\"text\":\"\",\"objectIds\":\"\",\"time\":\"\",\"geometry\":\"\",\"geometryType\":\"esriGeometryEnvelope\",\"inSR\":\"\",\"spatialRel\":\"esriSpatialRelIntersects\",\"relationParam\":\"\",\"outFields\":\"*\",\"returnGeometry\":\"true\",\"maxAllowableOffset\":\"\",\"geometryPrecision\":\"\",\"outSR\":\"\",\"returnIdsOnly\":\"false\",\"returnCountOnly\":\"false\",\"orderByFields\":\"\",\"groupByFieldsForStatistics\":\"\",\"outStatistics\":\"\",\"returnZ\":\"false\",\"returnM\":\"false\",\"gdbVersion\":\"\",\"returnDistinctValues\":\"false\",\"f\":\"pjson\"}\n",
    "\n",
    "headers = {'user-agent': 'vscode-restclient'}\n",
    "\n",
    "response = requests.request(\"GET\", url, headers=headers, params=querystring)\n",
    "\n",
    "police_command_list = response.json()['features']\n",
    "police_commands = pd.json_normalize(police_command_list)\n",
    "police_commands.columns = police_commands.columns.str.lstrip(\"attributes.\")\n"
   ]
  },
  {
   "cell_type": "code",
   "execution_count": 2,
   "metadata": {},
   "outputs": [
    {
     "data": {
      "text/html": [
       "<div>\n",
       "<style scoped>\n",
       "    .dataframe tbody tr th:only-of-type {\n",
       "        vertical-align: middle;\n",
       "    }\n",
       "\n",
       "    .dataframe tbody tr th {\n",
       "        vertical-align: top;\n",
       "    }\n",
       "\n",
       "    .dataframe thead th {\n",
       "        text-align: right;\n",
       "    }\n",
       "</style>\n",
       "<table border=\"1\" class=\"dataframe\">\n",
       "  <thead>\n",
       "    <tr style=\"text-align: right;\">\n",
       "      <th></th>\n",
       "      <th>OBJECTID</th>\n",
       "      <th>Area_Command</th>\n",
       "      <th>geometry.rings</th>\n",
       "    </tr>\n",
       "  </thead>\n",
       "  <tbody>\n",
       "    <tr>\n",
       "      <th>0</th>\n",
       "      <td>10039</td>\n",
       "      <td>FOOTHILLS</td>\n",
       "      <td>[[[-11857723.5238, 4170749.9856999964], [-1185...</td>\n",
       "    </tr>\n",
       "    <tr>\n",
       "      <th>1</th>\n",
       "      <td>10040</td>\n",
       "      <td>NORTHEAST</td>\n",
       "      <td>[[[-11862688.4197, 4191100.6687999964], [-1186...</td>\n",
       "    </tr>\n",
       "    <tr>\n",
       "      <th>2</th>\n",
       "      <td>10041</td>\n",
       "      <td>NORTHWEST</td>\n",
       "      <td>[[[-11878406.690000001, 4193530.641400002], [-...</td>\n",
       "    </tr>\n",
       "    <tr>\n",
       "      <th>3</th>\n",
       "      <td>10042</td>\n",
       "      <td>SOUTHWEST</td>\n",
       "      <td>[[[-11878114.4008, 4178467.064000003], [-11878...</td>\n",
       "    </tr>\n",
       "    <tr>\n",
       "      <th>4</th>\n",
       "      <td>10043</td>\n",
       "      <td>VALLEY</td>\n",
       "      <td>[[[-11866607.2209, 4191764.726599999], [-11866...</td>\n",
       "    </tr>\n",
       "    <tr>\n",
       "      <th>5</th>\n",
       "      <td>10044</td>\n",
       "      <td>SOUTHEAST</td>\n",
       "      <td>[[[-11868184.2157, 4178458.3501999974], [-1186...</td>\n",
       "    </tr>\n",
       "  </tbody>\n",
       "</table>\n",
       "</div>"
      ],
      "text/plain": [
       "   OBJECTID Area_Command                                     geometry.rings\n",
       "0     10039    FOOTHILLS  [[[-11857723.5238, 4170749.9856999964], [-1185...\n",
       "1     10040    NORTHEAST  [[[-11862688.4197, 4191100.6687999964], [-1186...\n",
       "2     10041    NORTHWEST  [[[-11878406.690000001, 4193530.641400002], [-...\n",
       "3     10042    SOUTHWEST  [[[-11878114.4008, 4178467.064000003], [-11878...\n",
       "4     10043       VALLEY  [[[-11866607.2209, 4191764.726599999], [-11866...\n",
       "5     10044    SOUTHEAST  [[[-11868184.2157, 4178458.3501999974], [-1186..."
      ]
     },
     "execution_count": 2,
     "metadata": {},
     "output_type": "execute_result"
    }
   ],
   "source": [
    "police_commands"
   ]
  }
 ],
 "metadata": {
  "kernelspec": {
   "display_name": "Python 3.10.5 64-bit",
   "language": "python",
   "name": "python3"
  },
  "language_info": {
   "codemirror_mode": {
    "name": "ipython",
    "version": 3
   },
   "file_extension": ".py",
   "mimetype": "text/x-python",
   "name": "python",
   "nbconvert_exporter": "python",
   "pygments_lexer": "ipython3",
   "version": "3.10.5"
  },
  "orig_nbformat": 4,
  "vscode": {
   "interpreter": {
    "hash": "759d0d21976bd259edbb251dc21a2558bba30222ea54aab68b2315a5050e134b"
   }
  }
 },
 "nbformat": 4,
 "nbformat_minor": 2
}
