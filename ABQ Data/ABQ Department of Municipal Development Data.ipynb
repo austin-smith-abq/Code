{
 "cells": [
  {
   "cell_type": "code",
   "execution_count": 1,
   "metadata": {},
   "outputs": [],
   "source": [
    "import requests\n",
    "import pandas as pd\n",
    "import json\n",
    "\n",
    "url = \"https://coagisweb.cabq.gov/arcgis/rest/services/public/fullviewer/MapServer/16/query\"\n",
    "\n",
    "querystring = {\"where\":\"1=1\",\"text\":\"\",\"objectIds\":\"\",\"time\":\"\",\"geometry\":\"\",\"geometryType\":\"esriGeometryEnvelope\",\"inSR\":\"\",\"spatialRel\":\"esriSpatialRelIntersects\",\"relationParam\":\"\",\"outFields\":\"*\",\"returnGeometry\":\"true\",\"maxAllowableOffset\":\"\",\"geometryPrecision\":\"\",\"outSR\":\"\",\"returnIdsOnly\":\"false\",\"returnCountOnly\":\"false\",\"orderByFields\":\"\",\"groupByFieldsForStatistics\":\"\",\"outStatistics\":\"\",\"returnZ\":\"false\",\"returnM\":\"false\",\"gdbVersion\":\"\",\"returnDistinctValues\":\"false\",\"f\":\"pjson\"}\n",
    "\n",
    "headers = {'user-agent': 'vscode-restclient'}\n",
    "\n",
    "response = requests.request(\"GET\", url, headers=headers, params=querystring)\n",
    "\n",
    "dmd_list = response.json()['features']\n",
    "dmds = pd.json_normalize(dmd_list)\n",
    "dmds.columns = dmds.columns.str.lstrip(\"attributes.\")\n"
   ]
  }
 ],
 "metadata": {
  "kernelspec": {
   "display_name": "Python 3.10.5 64-bit",
   "language": "python",
   "name": "python3"
  },
  "language_info": {
   "codemirror_mode": {
    "name": "ipython",
    "version": 3
   },
   "file_extension": ".py",
   "mimetype": "text/x-python",
   "name": "python",
   "nbconvert_exporter": "python",
   "pygments_lexer": "ipython3",
   "version": "3.10.5"
  },
  "orig_nbformat": 4,
  "vscode": {
   "interpreter": {
    "hash": "759d0d21976bd259edbb251dc21a2558bba30222ea54aab68b2315a5050e134b"
   }
  }
 },
 "nbformat": 4,
 "nbformat_minor": 2
}
